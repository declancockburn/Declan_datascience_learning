{
 "cells": [
  {
   "cell_type": "markdown",
   "metadata": {},
   "source": [
    "<center>\n",
    "    <img src=\"https://s3-api.us-geo.objectstorage.softlayer.net/cf-courses-data/CognitiveClass/Logos/organization_logo/organization_logo.png\" width=\"300\" alt=\"cognitiveclass.ai logo\"  />\n",
    "</center>\n",
    "\n",
    "# Model Evaluation and Refinement\n",
    "\n",
    "Estimated time needed: **30** minutes\n",
    "\n",
    "## Objectives\n",
    "\n",
    "After completing this lab you will be able to:\n",
    "\n",
    "-   Evaluate and refine prediction models\n"
   ]
  },
  {
   "cell_type": "markdown",
   "metadata": {},
   "source": [
    "<h1>Table of content</h1>\n",
    "<ul>\n",
    "    <li><a href=\"#ref1\">Model Evaluation </a></li>\n",
    "    <li><a href=\"#ref2\">Over-fitting, Under-fitting and Model Selection </a></li>\n",
    "    <li><a href=\"#ref3\">Ridge Regression </a></li>\n",
    "    <li><a href=\"#ref4\">Grid Search</a></li>\n",
    "</ul>\n"
   ]
  },
  {
   "cell_type": "markdown",
   "metadata": {},
   "source": [
    "This dataset was hosted on IBM Cloud object click <a href=\"https://cocl.us/DA101EN_object_storage\">HERE</a> for free storage.\n"
   ]
  },
  {
   "cell_type": "code",
   "execution_count": 66,
   "metadata": {},
   "outputs": [],
   "source": [
    "import pandas as pd\n",
    "import numpy as np\n",
    "\n",
    "# Import clean data \n",
    "path = 'https://s3-api.us-geo.objectstorage.softlayer.net/cf-courses-data/CognitiveClass/DA0101EN/module_5_auto.csv'\n",
    "df = pd.read_csv(path)"
   ]
  },
  {
   "cell_type": "code",
   "execution_count": 67,
   "metadata": {},
   "outputs": [],
   "source": [
    "df.to_csv('module_5_auto.csv')"
   ]
  },
  {
   "cell_type": "markdown",
   "metadata": {},
   "source": [
    " First lets only use numeric data \n"
   ]
  },
  {
   "cell_type": "code",
   "execution_count": 68,
   "metadata": {
    "scrolled": false
   },
   "outputs": [
    {
     "data": {
      "text/html": [
       "<div>\n",
       "<style scoped>\n",
       "    .dataframe tbody tr th:only-of-type {\n",
       "        vertical-align: middle;\n",
       "    }\n",
       "\n",
       "    .dataframe tbody tr th {\n",
       "        vertical-align: top;\n",
       "    }\n",
       "\n",
       "    .dataframe thead th {\n",
       "        text-align: right;\n",
       "    }\n",
       "</style>\n",
       "<table border=\"1\" class=\"dataframe\">\n",
       "  <thead>\n",
       "    <tr style=\"text-align: right;\">\n",
       "      <th></th>\n",
       "      <th>Unnamed: 0</th>\n",
       "      <th>Unnamed: 0.1</th>\n",
       "      <th>symboling</th>\n",
       "      <th>normalized-losses</th>\n",
       "      <th>wheel-base</th>\n",
       "      <th>length</th>\n",
       "      <th>width</th>\n",
       "      <th>height</th>\n",
       "      <th>curb-weight</th>\n",
       "      <th>engine-size</th>\n",
       "      <th>...</th>\n",
       "      <th>stroke</th>\n",
       "      <th>compression-ratio</th>\n",
       "      <th>horsepower</th>\n",
       "      <th>peak-rpm</th>\n",
       "      <th>city-mpg</th>\n",
       "      <th>highway-mpg</th>\n",
       "      <th>price</th>\n",
       "      <th>city-L/100km</th>\n",
       "      <th>diesel</th>\n",
       "      <th>gas</th>\n",
       "    </tr>\n",
       "  </thead>\n",
       "  <tbody>\n",
       "    <tr>\n",
       "      <th>0</th>\n",
       "      <td>0</td>\n",
       "      <td>0</td>\n",
       "      <td>3</td>\n",
       "      <td>122</td>\n",
       "      <td>88.6</td>\n",
       "      <td>0.811148</td>\n",
       "      <td>0.890278</td>\n",
       "      <td>48.8</td>\n",
       "      <td>2548</td>\n",
       "      <td>130</td>\n",
       "      <td>...</td>\n",
       "      <td>2.68</td>\n",
       "      <td>9.0</td>\n",
       "      <td>111.0</td>\n",
       "      <td>5000.0</td>\n",
       "      <td>21</td>\n",
       "      <td>27</td>\n",
       "      <td>13495.0</td>\n",
       "      <td>11.190476</td>\n",
       "      <td>0</td>\n",
       "      <td>1</td>\n",
       "    </tr>\n",
       "    <tr>\n",
       "      <th>1</th>\n",
       "      <td>1</td>\n",
       "      <td>1</td>\n",
       "      <td>3</td>\n",
       "      <td>122</td>\n",
       "      <td>88.6</td>\n",
       "      <td>0.811148</td>\n",
       "      <td>0.890278</td>\n",
       "      <td>48.8</td>\n",
       "      <td>2548</td>\n",
       "      <td>130</td>\n",
       "      <td>...</td>\n",
       "      <td>2.68</td>\n",
       "      <td>9.0</td>\n",
       "      <td>111.0</td>\n",
       "      <td>5000.0</td>\n",
       "      <td>21</td>\n",
       "      <td>27</td>\n",
       "      <td>16500.0</td>\n",
       "      <td>11.190476</td>\n",
       "      <td>0</td>\n",
       "      <td>1</td>\n",
       "    </tr>\n",
       "    <tr>\n",
       "      <th>2</th>\n",
       "      <td>2</td>\n",
       "      <td>2</td>\n",
       "      <td>1</td>\n",
       "      <td>122</td>\n",
       "      <td>94.5</td>\n",
       "      <td>0.822681</td>\n",
       "      <td>0.909722</td>\n",
       "      <td>52.4</td>\n",
       "      <td>2823</td>\n",
       "      <td>152</td>\n",
       "      <td>...</td>\n",
       "      <td>3.47</td>\n",
       "      <td>9.0</td>\n",
       "      <td>154.0</td>\n",
       "      <td>5000.0</td>\n",
       "      <td>19</td>\n",
       "      <td>26</td>\n",
       "      <td>16500.0</td>\n",
       "      <td>12.368421</td>\n",
       "      <td>0</td>\n",
       "      <td>1</td>\n",
       "    </tr>\n",
       "    <tr>\n",
       "      <th>3</th>\n",
       "      <td>3</td>\n",
       "      <td>3</td>\n",
       "      <td>2</td>\n",
       "      <td>164</td>\n",
       "      <td>99.8</td>\n",
       "      <td>0.848630</td>\n",
       "      <td>0.919444</td>\n",
       "      <td>54.3</td>\n",
       "      <td>2337</td>\n",
       "      <td>109</td>\n",
       "      <td>...</td>\n",
       "      <td>3.40</td>\n",
       "      <td>10.0</td>\n",
       "      <td>102.0</td>\n",
       "      <td>5500.0</td>\n",
       "      <td>24</td>\n",
       "      <td>30</td>\n",
       "      <td>13950.0</td>\n",
       "      <td>9.791667</td>\n",
       "      <td>0</td>\n",
       "      <td>1</td>\n",
       "    </tr>\n",
       "    <tr>\n",
       "      <th>4</th>\n",
       "      <td>4</td>\n",
       "      <td>4</td>\n",
       "      <td>2</td>\n",
       "      <td>164</td>\n",
       "      <td>99.4</td>\n",
       "      <td>0.848630</td>\n",
       "      <td>0.922222</td>\n",
       "      <td>54.3</td>\n",
       "      <td>2824</td>\n",
       "      <td>136</td>\n",
       "      <td>...</td>\n",
       "      <td>3.40</td>\n",
       "      <td>8.0</td>\n",
       "      <td>115.0</td>\n",
       "      <td>5500.0</td>\n",
       "      <td>18</td>\n",
       "      <td>22</td>\n",
       "      <td>17450.0</td>\n",
       "      <td>13.055556</td>\n",
       "      <td>0</td>\n",
       "      <td>1</td>\n",
       "    </tr>\n",
       "  </tbody>\n",
       "</table>\n",
       "<p>5 rows × 21 columns</p>\n",
       "</div>"
      ],
      "text/plain": [
       "   Unnamed: 0  Unnamed: 0.1  symboling  normalized-losses  wheel-base  \\\n",
       "0           0             0          3                122        88.6   \n",
       "1           1             1          3                122        88.6   \n",
       "2           2             2          1                122        94.5   \n",
       "3           3             3          2                164        99.8   \n",
       "4           4             4          2                164        99.4   \n",
       "\n",
       "     length     width  height  curb-weight  engine-size  ...  stroke  \\\n",
       "0  0.811148  0.890278    48.8         2548          130  ...    2.68   \n",
       "1  0.811148  0.890278    48.8         2548          130  ...    2.68   \n",
       "2  0.822681  0.909722    52.4         2823          152  ...    3.47   \n",
       "3  0.848630  0.919444    54.3         2337          109  ...    3.40   \n",
       "4  0.848630  0.922222    54.3         2824          136  ...    3.40   \n",
       "\n",
       "   compression-ratio  horsepower  peak-rpm  city-mpg  highway-mpg    price  \\\n",
       "0                9.0       111.0    5000.0        21           27  13495.0   \n",
       "1                9.0       111.0    5000.0        21           27  16500.0   \n",
       "2                9.0       154.0    5000.0        19           26  16500.0   \n",
       "3               10.0       102.0    5500.0        24           30  13950.0   \n",
       "4                8.0       115.0    5500.0        18           22  17450.0   \n",
       "\n",
       "   city-L/100km  diesel  gas  \n",
       "0     11.190476       0    1  \n",
       "1     11.190476       0    1  \n",
       "2     12.368421       0    1  \n",
       "3      9.791667       0    1  \n",
       "4     13.055556       0    1  \n",
       "\n",
       "[5 rows x 21 columns]"
      ]
     },
     "execution_count": 68,
     "metadata": {},
     "output_type": "execute_result"
    }
   ],
   "source": [
    "df=df._get_numeric_data()\n",
    "df.head()"
   ]
  },
  {
   "cell_type": "markdown",
   "metadata": {},
   "source": [
    " Libraries for plotting \n"
   ]
  },
  {
   "cell_type": "code",
   "execution_count": 69,
   "metadata": {},
   "outputs": [],
   "source": [
    "%%capture\n",
    "! pip install ipywidgets"
   ]
  },
  {
   "cell_type": "code",
   "execution_count": 70,
   "metadata": {},
   "outputs": [],
   "source": [
    "from ipywidgets import interact, interactive, fixed, interact_manual"
   ]
  },
  {
   "cell_type": "markdown",
   "metadata": {},
   "source": [
    "<h2>Functions for plotting</h2>\n"
   ]
  },
  {
   "cell_type": "code",
   "execution_count": 71,
   "metadata": {},
   "outputs": [],
   "source": [
    "def DistributionPlot(RedFunction, BlueFunction, RedName, BlueName, Title):\n",
    "    width = 12\n",
    "    height = 10\n",
    "    plt.figure(figsize=(width, height))\n",
    "\n",
    "    ax1 = sns.distplot(RedFunction, hist=False, color=\"r\", label=RedName)\n",
    "    ax2 = sns.distplot(BlueFunction, hist=False, color=\"b\", label=BlueName, ax=ax1)\n",
    "\n",
    "    plt.title(Title)\n",
    "    plt.xlabel('Price (in dollars)')\n",
    "    plt.ylabel('Proportion of Cars')\n",
    "    plt.legend()\n",
    "    plt.show()\n"
   ]
  },
  {
   "cell_type": "code",
   "execution_count": 72,
   "metadata": {},
   "outputs": [],
   "source": [
    "def PollyPlot(xtrain, xtest, y_train, y_test, lr,poly_transform):\n",
    "    width = 12\n",
    "    height = 10\n",
    "    plt.figure(figsize=(width, height))\n",
    "    \n",
    "    \n",
    "    #training data \n",
    "    #testing data \n",
    "    # lr:  linear regression object \n",
    "    #poly_transform:  polynomial transformation object \n",
    " \n",
    "    xmax=max([xtrain.values.max(), xtest.values.max()])\n",
    "\n",
    "    xmin=min([xtrain.values.min(), xtest.values.min()])\n",
    "\n",
    "    x=np.arange(xmin, xmax, 0.1)\n",
    "\n",
    "\n",
    "    plt.plot(xtrain, y_train, 'ro', label='Training Data')\n",
    "    plt.plot(xtest, y_test, 'go', label='Test Data')\n",
    "    plt.plot(x, lr.predict(poly_transform.fit_transform(x.reshape(-1, 1))), label='Predicted Function')\n",
    "    plt.ylim([-10000, 60000])\n",
    "    plt.ylabel('Price')\n",
    "    plt.legend()"
   ]
  },
  {
   "cell_type": "markdown",
   "metadata": {},
   "source": [
    "<h1 id=\"ref1\">Part 1: Training and Testing</h1>\n",
    "\n",
    "<p>An important step in testing your model is to split your data into training and testing data. We will place the target data <b>price</b> in a separate dataframe <b>y</b>:</p>\n"
   ]
  },
  {
   "cell_type": "code",
   "execution_count": 73,
   "metadata": {},
   "outputs": [],
   "source": [
    "y_data = df['price']"
   ]
  },
  {
   "cell_type": "markdown",
   "metadata": {},
   "source": [
    "drop price data in x data\n"
   ]
  },
  {
   "cell_type": "code",
   "execution_count": 74,
   "metadata": {},
   "outputs": [],
   "source": [
    "x_data=df.drop('price',axis=1)"
   ]
  },
  {
   "cell_type": "markdown",
   "metadata": {},
   "source": [
    "Now we randomly split our data into training and testing data  using the function <b>train_test_split</b>. \n"
   ]
  },
  {
   "cell_type": "code",
   "execution_count": 75,
   "metadata": {},
   "outputs": [
    {
     "name": "stdout",
     "output_type": "stream",
     "text": [
      "number of test samples : 21\n",
      "number of training samples: 180\n"
     ]
    }
   ],
   "source": [
    "from sklearn.model_selection import train_test_split\n",
    "\n",
    "\n",
    "x_train, x_test, y_train, y_test = train_test_split(x_data, y_data, test_size=0.10, random_state=1)\n",
    "\n",
    "\n",
    "print(\"number of test samples :\", x_test.shape[0])\n",
    "print(\"number of training samples:\",x_train.shape[0])\n"
   ]
  },
  {
   "cell_type": "markdown",
   "metadata": {},
   "source": [
    "The <b>test_size</b> parameter sets the proportion of data that is split into the testing set. In the above, the testing set is set to 10% of the total dataset. \n"
   ]
  },
  {
   "cell_type": "markdown",
   "metadata": {},
   "source": [
    "<div class=\"alert alert-danger alertdanger\" style=\"margin-top: 20px\">\n",
    "<h1> Question  #1):</h1>\n",
    "\n",
    "<b>Use the function \"train_test_split\" to split up the data set such that 40% of the data samples will be utilized for testing, set the parameter \"random_state\" equal to zero. The output of the function should be the following:  \"x_train_1\" , \"x_test_1\", \"y_train_1\" and  \"y_test_1\".</b>\n",
    "\n",
    "</div>\n"
   ]
  },
  {
   "cell_type": "code",
   "execution_count": 76,
   "metadata": {},
   "outputs": [
    {
     "name": "stdout",
     "output_type": "stream",
     "text": [
      "number of test samples : 81\n",
      "number of training samples: 120\n"
     ]
    }
   ],
   "source": [
    "# Write your code below and press Shift+Enter to execute \n",
    "x_train_1, x_test_1, y_train_1, y_test_1 = train_test_split(x_data, y_data, test_size=0.4, random_state=0)\n",
    "\n",
    "print(\"number of test samples :\", x_test_1.shape[0])\n",
    "print(\"number of training samples:\",x_train_1.shape[0])"
   ]
  },
  {
   "cell_type": "markdown",
   "metadata": {},
   "source": [
    "Double-click <b>here</b> for the solution.\n",
    "\n",
    "<!-- The answer is below:\n",
    "\n",
    "x_train1, x_test1, y_train1, y_test1 = train_test_split(x_data, y_data, test_size=0.4, random_state=0) \n",
    "print(\"number of test samples :\", x_test1.shape[0])\n",
    "print(\"number of training samples:\",x_train1.shape[0])\n",
    "\n",
    "-->\n"
   ]
  },
  {
   "cell_type": "markdown",
   "metadata": {},
   "source": [
    "Let's import <b>LinearRegression</b> from the module <b>linear_model</b>.\n"
   ]
  },
  {
   "cell_type": "code",
   "execution_count": 77,
   "metadata": {},
   "outputs": [],
   "source": [
    "from sklearn.linear_model import LinearRegression"
   ]
  },
  {
   "cell_type": "markdown",
   "metadata": {},
   "source": [
    " We create a Linear Regression object:\n"
   ]
  },
  {
   "cell_type": "code",
   "execution_count": 78,
   "metadata": {},
   "outputs": [],
   "source": [
    "lre=LinearRegression()"
   ]
  },
  {
   "cell_type": "markdown",
   "metadata": {},
   "source": [
    "we fit the model using the feature horsepower \n"
   ]
  },
  {
   "cell_type": "code",
   "execution_count": 79,
   "metadata": {},
   "outputs": [
    {
     "data": {
      "text/plain": [
       "LinearRegression()"
      ]
     },
     "execution_count": 79,
     "metadata": {},
     "output_type": "execute_result"
    }
   ],
   "source": [
    "lre.fit(x_train[['horsepower']], y_train)"
   ]
  },
  {
   "cell_type": "markdown",
   "metadata": {},
   "source": [
    "Let's Calculate the R^2 on the test data:\n"
   ]
  },
  {
   "cell_type": "code",
   "execution_count": 80,
   "metadata": {},
   "outputs": [
    {
     "data": {
      "text/plain": [
       "0.36358755750788263"
      ]
     },
     "execution_count": 80,
     "metadata": {},
     "output_type": "execute_result"
    }
   ],
   "source": [
    "lre.score(x_test[['horsepower']], y_test)"
   ]
  },
  {
   "cell_type": "markdown",
   "metadata": {},
   "source": [
    "we can see the R^2 is much smaller using the test data.\n"
   ]
  },
  {
   "cell_type": "code",
   "execution_count": 81,
   "metadata": {},
   "outputs": [
    {
     "data": {
      "text/plain": [
       "0.6619724197515104"
      ]
     },
     "execution_count": 81,
     "metadata": {},
     "output_type": "execute_result"
    }
   ],
   "source": [
    "lre.score(x_train[['horsepower']], y_train)"
   ]
  },
  {
   "cell_type": "markdown",
   "metadata": {},
   "source": [
    "<div class=\"alert alert-danger alertdanger\" style=\"margin-top: 20px\">\n",
    "<h1> Question  #2): </h1>\n",
    "<b> \n",
    "Find the R^2  on the test data using 90% of the data for training data\n",
    "</b>\n",
    "</div>\n"
   ]
  },
  {
   "cell_type": "code",
   "execution_count": 82,
   "metadata": {},
   "outputs": [
    {
     "data": {
      "text/plain": [
       "0.36358755750788263"
      ]
     },
     "execution_count": 82,
     "metadata": {},
     "output_type": "execute_result"
    }
   ],
   "source": [
    "# Write your code below and press Shift+Enter to execute \n",
    "lre.fit(x_train[['horsepower']], y_train)\n",
    "lre.score(x_test[['horsepower']], y_test)"
   ]
  },
  {
   "cell_type": "markdown",
   "metadata": {},
   "source": [
    "Double-click <b>here</b> for the solution.\n",
    "\n",
    "<!-- The answer is below:\n",
    "\n",
    "x_train1, x_test1, y_train1, y_test1 = train_test_split(x_data, y_data, test_size=0.1, random_state=0)\n",
    "lre.fit(x_train1[['horsepower']],y_train1)\n",
    "lre.score(x_test1[['horsepower']],y_test1)\n",
    "\n",
    "-->\n"
   ]
  },
  {
   "cell_type": "markdown",
   "metadata": {},
   "source": [
    " Sometimes you do not have sufficient testing data; as a result, you may want to perform Cross-validation. Let's  go over several methods that you can use for  Cross-validation. \n"
   ]
  },
  {
   "cell_type": "markdown",
   "metadata": {},
   "source": [
    "<h2>Cross-validation Score</h2>\n"
   ]
  },
  {
   "cell_type": "markdown",
   "metadata": {},
   "source": [
    "Lets import <b>model_selection</b> from the module <b>cross_val_score</b>.\n"
   ]
  },
  {
   "cell_type": "code",
   "execution_count": 83,
   "metadata": {},
   "outputs": [],
   "source": [
    "from sklearn.model_selection import cross_val_score"
   ]
  },
  {
   "cell_type": "markdown",
   "metadata": {},
   "source": [
    "We input the object, the feature in this case ' horsepower', the target data (y_data). The parameter 'cv'  determines the number of folds; in this case 4. \n"
   ]
  },
  {
   "cell_type": "code",
   "execution_count": 84,
   "metadata": {},
   "outputs": [],
   "source": [
    "Rcross = cross_val_score(lre, x_data[['horsepower']], y_data, cv=4)"
   ]
  },
  {
   "cell_type": "markdown",
   "metadata": {},
   "source": [
    "The default scoring is R^2; each element in the array has the average  R^2 value in the fold:\n"
   ]
  },
  {
   "cell_type": "code",
   "execution_count": 85,
   "metadata": {},
   "outputs": [
    {
     "data": {
      "text/plain": [
       "array([0.7746232 , 0.51716687, 0.74785353, 0.04839605])"
      ]
     },
     "execution_count": 85,
     "metadata": {},
     "output_type": "execute_result"
    }
   ],
   "source": [
    "Rcross"
   ]
  },
  {
   "cell_type": "markdown",
   "metadata": {},
   "source": [
    " We can calculate the average and standard deviation of our estimate:\n"
   ]
  },
  {
   "cell_type": "code",
   "execution_count": 86,
   "metadata": {},
   "outputs": [
    {
     "name": "stdout",
     "output_type": "stream",
     "text": [
      "The mean of the folds are 0.522009915042119 and the standard deviation is 0.2911839444756029\n"
     ]
    }
   ],
   "source": [
    "print(\"The mean of the folds are\", Rcross.mean(), \"and the standard deviation is\" , Rcross.std())"
   ]
  },
  {
   "cell_type": "markdown",
   "metadata": {},
   "source": [
    "We can use negative squared error as a score by setting the parameter  'scoring' metric to 'neg_mean_squared_error'. \n"
   ]
  },
  {
   "cell_type": "code",
   "execution_count": 87,
   "metadata": {},
   "outputs": [
    {
     "data": {
      "text/plain": [
       "array([20254142.84026704, 43745493.2650517 , 12539630.34014931,\n",
       "       17561927.72247591])"
      ]
     },
     "execution_count": 87,
     "metadata": {},
     "output_type": "execute_result"
    }
   ],
   "source": [
    "-1 * cross_val_score(lre,x_data[['horsepower']], y_data,cv=4,scoring='neg_mean_squared_error')"
   ]
  },
  {
   "cell_type": "markdown",
   "metadata": {},
   "source": [
    "<div class=\"alert alert-danger alertdanger\" style=\"margin-top: 20px\">\n",
    "<h1> Question  #3): </h1>\n",
    "<b> \n",
    "Calculate the average R^2 using two folds, find the average R^2 for the second fold utilizing the horsepower as a feature : \n",
    "</b>\n",
    "</div>\n"
   ]
  },
  {
   "cell_type": "code",
   "execution_count": 88,
   "metadata": {},
   "outputs": [
    {
     "data": {
      "text/plain": [
       "0.5166761697127429"
      ]
     },
     "execution_count": 88,
     "metadata": {},
     "output_type": "execute_result"
    }
   ],
   "source": [
    "# Write your code below and press Shift+Enter to execute \n",
    "Rcross_2 = cross_val_score(lre, x_data[['horsepower']], y_data, cv=2)\n",
    "\n",
    "Rcross_2.mean()"
   ]
  },
  {
   "cell_type": "markdown",
   "metadata": {},
   "source": [
    "Double-click <b>here</b> for the solution.\n",
    "\n",
    "<!-- The answer is below:\n",
    "\n",
    "Rc=cross_val_score(lre,x_data[['horsepower']], y_data,cv=2)\n",
    "Rc.mean()\n",
    "\n",
    "-->\n"
   ]
  },
  {
   "cell_type": "markdown",
   "metadata": {},
   "source": [
    "You can also use the function 'cross_val_predict' to predict the output. The function splits up the data into the specified number of folds, using one fold for testing and the other folds are used for training.  First import the function:\n"
   ]
  },
  {
   "cell_type": "code",
   "execution_count": 89,
   "metadata": {},
   "outputs": [],
   "source": [
    "from sklearn.model_selection import cross_val_predict"
   ]
  },
  {
   "cell_type": "markdown",
   "metadata": {},
   "source": [
    "We input the object, the feature in this case <b>'horsepower'</b> , the target data <b>y_data</b>. The parameter 'cv' determines the number of folds; in this case 4. We can produce an output:\n"
   ]
  },
  {
   "cell_type": "code",
   "execution_count": 90,
   "metadata": {},
   "outputs": [
    {
     "data": {
      "text/plain": [
       "array([14141.63807508, 14141.63807508, 20814.29423473, 12745.03562306,\n",
       "       14762.35027598])"
      ]
     },
     "execution_count": 90,
     "metadata": {},
     "output_type": "execute_result"
    }
   ],
   "source": [
    "yhat = cross_val_predict(lre,x_data[['horsepower']], y_data,cv=4)\n",
    "yhat[0:5]"
   ]
  },
  {
   "cell_type": "markdown",
   "metadata": {},
   "source": [
    "<h1 id=\"ref2\">Part 2: Overfitting, Underfitting and Model Selection</h1>\n",
    "\n",
    "<p>It turns out that the test data sometimes referred to as the out of sample data is a much better measure of how well your model performs in the real world.  One reason for this is overfitting; let's go over some examples. It turns out these differences are more apparent in Multiple Linear Regression and Polynomial Regression so we will explore overfitting in that context.</p>\n"
   ]
  },
  {
   "cell_type": "markdown",
   "metadata": {},
   "source": [
    "Let's create Multiple linear regression objects and train the model using <b>'horsepower'</b>, <b>'curb-weight'</b>, <b>'engine-size'</b> and <b>'highway-mpg'</b> as features.\n"
   ]
  },
  {
   "cell_type": "code",
   "execution_count": 91,
   "metadata": {},
   "outputs": [
    {
     "data": {
      "text/plain": [
       "LinearRegression()"
      ]
     },
     "execution_count": 91,
     "metadata": {},
     "output_type": "execute_result"
    }
   ],
   "source": [
    "lr = LinearRegression()\n",
    "lr.fit(x_train[['horsepower', 'curb-weight', 'engine-size', 'highway-mpg']], y_train)"
   ]
  },
  {
   "cell_type": "markdown",
   "metadata": {},
   "source": [
    "Prediction using training data:\n"
   ]
  },
  {
   "cell_type": "code",
   "execution_count": 92,
   "metadata": {},
   "outputs": [
    {
     "data": {
      "text/plain": [
       "array([ 7426.6731551 , 28323.75090803, 14213.38819709,  4052.34146983,\n",
       "       34500.19124244])"
      ]
     },
     "execution_count": 92,
     "metadata": {},
     "output_type": "execute_result"
    }
   ],
   "source": [
    "yhat_train = lr.predict(x_train[['horsepower', 'curb-weight', 'engine-size', 'highway-mpg']])\n",
    "yhat_train[0:5]"
   ]
  },
  {
   "cell_type": "markdown",
   "metadata": {},
   "source": [
    "Prediction using test data: \n"
   ]
  },
  {
   "cell_type": "code",
   "execution_count": 93,
   "metadata": {},
   "outputs": [
    {
     "data": {
      "text/plain": [
       "array([11349.35089149,  5884.11059106, 11208.6928275 ,  6641.07786278,\n",
       "       15565.79920282])"
      ]
     },
     "execution_count": 93,
     "metadata": {},
     "output_type": "execute_result"
    }
   ],
   "source": [
    "yhat_test = lr.predict(x_test[['horsepower', 'curb-weight', 'engine-size', 'highway-mpg']])\n",
    "yhat_test[0:5]"
   ]
  },
  {
   "cell_type": "markdown",
   "metadata": {},
   "source": [
    "Let's perform some model evaluation using our training and testing data separately. First  we import the seaborn and matplotlibb library for plotting.\n"
   ]
  },
  {
   "cell_type": "code",
   "execution_count": 94,
   "metadata": {},
   "outputs": [],
   "source": [
    "import matplotlib.pyplot as plt\n",
    "%matplotlib inline\n",
    "import seaborn as sns"
   ]
  },
  {
   "cell_type": "markdown",
   "metadata": {},
   "source": [
    "Let's examine the distribution of the predicted values of the training data.\n"
   ]
  },
  {
   "cell_type": "code",
   "execution_count": 95,
   "metadata": {},
   "outputs": [
    {
     "name": "stderr",
     "output_type": "stream",
     "text": [
      "C:\\Users\\Declan\\Anaconda3\\lib\\site-packages\\seaborn\\distributions.py:2551: FutureWarning: `distplot` is a deprecated function and will be removed in a future version. Please adapt your code to use either `displot` (a figure-level function with similar flexibility) or `kdeplot` (an axes-level function for kernel density plots).\n",
      "  warnings.warn(msg, FutureWarning)\n",
      "C:\\Users\\Declan\\Anaconda3\\lib\\site-packages\\seaborn\\distributions.py:2551: FutureWarning: `distplot` is a deprecated function and will be removed in a future version. Please adapt your code to use either `displot` (a figure-level function with similar flexibility) or `kdeplot` (an axes-level function for kernel density plots).\n",
      "  warnings.warn(msg, FutureWarning)\n"
     ]
    },
    {
     "data": {
      "image/png": "[encoded data removed]",
      "text/plain": [
       "<Figure size 864x720 with 1 Axes>"
      ]
     },
     "metadata": {
      "needs_background": "light"
     },
     "output_type": "display_data"
    }
   ],
   "source": [
    "Title = 'Distribution  Plot of  Predicted Value Using Training Data vs Training Data Distribution'\n",
    "DistributionPlot(y_train, yhat_train, \"Actual Values (Train)\", \"Predicted Values (Train)\", Title)"
   ]
  },
  {
   "cell_type": "markdown",
   "metadata": {},
   "source": [
    "Figure 1: Plot of predicted values using the training data compared to the training data. \n"
   ]
  },
  {
   "cell_type": "markdown",
   "metadata": {},
   "source": [
    "So far the model seems to be doing well in learning from the training dataset. But what happens when the model encounters new data from the testing dataset? When the model generates new values from the test data, we see the distribution of the predicted values is much different from the actual target values. \n"
   ]
  },
  {
   "cell_type": "code",
   "execution_count": 96,
   "metadata": {},
   "outputs": [
    {
     "name": "stderr",
     "output_type": "stream",
     "text": [
      "C:\\Users\\Declan\\Anaconda3\\lib\\site-packages\\seaborn\\distributions.py:2551: FutureWarning: `distplot` is a deprecated function and will be removed in a future version. Please adapt your code to use either `displot` (a figure-level function with similar flexibility) or `kdeplot` (an axes-level function for kernel density plots).\n",
      "  warnings.warn(msg, FutureWarning)\n",
      "C:\\Users\\Declan\\Anaconda3\\lib\\site-packages\\seaborn\\distributions.py:2551: FutureWarning: `distplot` is a deprecated function and will be removed in a future version. Please adapt your code to use either `displot` (a figure-level function with similar flexibility) or `kdeplot` (an axes-level function for kernel density plots).\n",
      "  warnings.warn(msg, FutureWarning)\n"
     ]
    },
    {
     "data": {
      "image/png": "[encoded data removed]",
      "text/plain": [
       "<Figure size 864x720 with 1 Axes>"
      ]
     },
     "metadata": {
      "needs_background": "light"
     },
     "output_type": "display_data"
    }
   ],
   "source": [
    "Title='Distribution  Plot of  Predicted Value Using Test Data vs Data Distribution of Test Data'\n",
    "DistributionPlot(y_test,yhat_test,\"Actual Values (Test)\",\"Predicted Values (Test)\",Title)"
   ]
  },
  {
   "cell_type": "markdown",
   "metadata": {},
   "source": [
    "Figur 2: Plot of predicted value using the test data compared to the test data. \n"
   ]
  },
  {
   "cell_type": "markdown",
   "metadata": {},
   "source": [
    "<p>Comparing Figure 1 and Figure 2; it is evident the distribution of the test data in Figure 1 is much better at fitting the data. This difference in Figure 2 is apparent where the ranges are from 5000 to 15 000. This is where the distribution shape is exceptionally different. Let's see if polynomial regression also exhibits a drop in the prediction accuracy when analysing the test dataset.</p>\n"
   ]
  },
  {
   "cell_type": "code",
   "execution_count": 97,
   "metadata": {},
   "outputs": [],
   "source": [
    "from sklearn.preprocessing import PolynomialFeatures"
   ]
  },
  {
   "cell_type": "markdown",
   "metadata": {},
   "source": [
    "<h4>Overfitting</h4>\n",
    "<p>Overfitting occurs when the model fits the noise, not the underlying process. Therefore when testing your model using the test-set, your model does not perform as well as it is modelling noise, not the underlying process that generated the relationship. Let's create a degree 5 polynomial model.</p>\n"
   ]
  },
  {
   "cell_type": "markdown",
   "metadata": {},
   "source": [
    "Let's use 55 percent of the data for training and the rest for testing:\n"
   ]
  },
  {
   "cell_type": "code",
   "execution_count": 98,
   "metadata": {},
   "outputs": [],
   "source": [
    "x_train, x_test, y_train, y_test = train_test_split(x_data, y_data, test_size=0.45, random_state=0)"
   ]
  },
  {
   "cell_type": "markdown",
   "metadata": {},
   "source": [
    "We will perform a degree 5 polynomial transformation on the feature <b>'horse power'</b>. \n"
   ]
  },
  {
   "cell_type": "code",
   "execution_count": 99,
   "metadata": {},
   "outputs": [
    {
     "data": {
      "text/plain": [
       "PolynomialFeatures(degree=5)"
      ]
     },
     "execution_count": 99,
     "metadata": {},
     "output_type": "execute_result"
    }
   ],
   "source": [
    "pr = PolynomialFeatures(degree=5)\n",
    "x_train_pr = pr.fit_transform(x_train[['horsepower']])\n",
    "x_test_pr = pr.fit_transform(x_test[['horsepower']])\n",
    "pr"
   ]
  },
  {
   "cell_type": "markdown",
   "metadata": {},
   "source": [
    "Now let's create a linear regression model \"poly\" and train it.\n"
   ]
  },
  {
   "cell_type": "code",
   "execution_count": 100,
   "metadata": {},
   "outputs": [
    {
     "data": {
      "text/plain": [
       "LinearRegression()"
      ]
     },
     "execution_count": 100,
     "metadata": {},
     "output_type": "execute_result"
    }
   ],
   "source": [
    "poly = LinearRegression()\n",
    "poly.fit(x_train_pr, y_train)"
   ]
  },
  {
   "cell_type": "markdown",
   "metadata": {},
   "source": [
    "We can see the output of our model using the method  \"predict.\" then assign the values to \"yhat\".\n"
   ]
  },
  {
   "cell_type": "code",
   "execution_count": 101,
   "metadata": {},
   "outputs": [
    {
     "data": {
      "text/plain": [
       "array([ 6728.65588262,  7307.98808316, 12213.78791312, 18893.24756104,\n",
       "       19995.95136784])"
      ]
     },
     "execution_count": 101,
     "metadata": {},
     "output_type": "execute_result"
    }
   ],
   "source": [
    "yhat = poly.predict(x_test_pr)\n",
    "yhat[0:5]"
   ]
  },
  {
   "cell_type": "markdown",
   "metadata": {},
   "source": [
    "Let's take the first five predicted values and compare it to the actual targets. \n"
   ]
  },
  {
   "cell_type": "code",
   "execution_count": 102,
   "metadata": {},
   "outputs": [
    {
     "name": "stdout",
     "output_type": "stream",
     "text": [
      "Predicted values: [ 6728.65588262  7307.98808316 12213.78791312 18893.24756104]\n",
      "True values: [ 6295. 10698. 13860. 13499.]\n"
     ]
    }
   ],
   "source": [
    "print(\"Predicted values:\", yhat[0:4])\n",
    "print(\"True values:\", y_test[0:4].values)"
   ]
  },
  {
   "cell_type": "markdown",
   "metadata": {},
   "source": [
    "We will use the function \"PollyPlot\" that we defined at the beginning of the lab to display the training data, testing data, and the predicted function.\n"
   ]
  },
  {
   "cell_type": "code",
   "execution_count": 103,
   "metadata": {
    "scrolled": false
   },
   "outputs": [
    {
     "data": {
      "image/png": "[encoded data removed]",
      "text/plain": [
       "<Figure size 864x720 with 1 Axes>"
      ]
     },
     "metadata": {
      "needs_background": "light"
     },
     "output_type": "display_data"
    }
   ],
   "source": [
    "PollyPlot(x_train[['horsepower']], x_test[['horsepower']], y_train, y_test, poly,pr)"
   ]
  },
  {
   "cell_type": "markdown",
   "metadata": {},
   "source": [
    "Figur 4 A polynomial regression model, red dots represent training data, green dots represent test data, and the blue line represents the model prediction. \n"
   ]
  },
  {
   "cell_type": "markdown",
   "metadata": {},
   "source": [
    "We see that the estimated function appears to track the data but around 200 horsepower, the function begins to diverge from the data points. \n"
   ]
  },
  {
   "cell_type": "markdown",
   "metadata": {},
   "source": [
    " R^2 of the training data:\n"
   ]
  },
  {
   "cell_type": "code",
   "execution_count": 104,
   "metadata": {},
   "outputs": [
    {
     "data": {
      "text/plain": [
       "0.5567716902128703"
      ]
     },
     "execution_count": 104,
     "metadata": {},
     "output_type": "execute_result"
    }
   ],
   "source": [
    "poly.score(x_train_pr, y_train)"
   ]
  },
  {
   "cell_type": "markdown",
   "metadata": {},
   "source": [
    " R^2 of the test data:\n"
   ]
  },
  {
   "cell_type": "code",
   "execution_count": 105,
   "metadata": {},
   "outputs": [
    {
     "data": {
      "text/plain": [
       "-29.871341834754773"
      ]
     },
     "execution_count": 105,
     "metadata": {},
     "output_type": "execute_result"
    }
   ],
   "source": [
    "poly.score(x_test_pr, y_test)"
   ]
  },
  {
   "cell_type": "markdown",
   "metadata": {},
   "source": [
    "We see the R^2 for the training data is 0.5567 while the R^2 on the test data was -29.87.  The lower the R^2, the worse the model, a Negative R^2 is a sign of overfitting.\n"
   ]
  },
  {
   "cell_type": "markdown",
   "metadata": {},
   "source": [
    "Let's see how the R^2 changes on the test data for different order polynomials and plot the results:\n"
   ]
  },
  {
   "cell_type": "code",
   "execution_count": 106,
   "metadata": {},
   "outputs": [
    {
     "data": {
      "text/plain": [
       "Text(3, 0.75, 'Maximum R^2 ')"
      ]
     },
     "execution_count": 106,
     "metadata": {},
     "output_type": "execute_result"
    },
    {
     "data": {
      "image/png": "[encoded data removed]",
      "text/plain": [
       "<Figure size 432x288 with 1 Axes>"
      ]
     },
     "metadata": {
      "needs_background": "light"
     },
     "output_type": "display_data"
    }
   ],
   "source": [
    "Rsqu_test = []\n",
    "\n",
    "order = [1, 2, 3, 4]\n",
    "for n in order:\n",
    "    pr = PolynomialFeatures(degree=n)\n",
    "    \n",
    "    x_train_pr = pr.fit_transform(x_train[['horsepower']])\n",
    "    \n",
    "    x_test_pr = pr.fit_transform(x_test[['horsepower']])    \n",
    "    \n",
    "    lr.fit(x_train_pr, y_train)\n",
    "    \n",
    "    Rsqu_test.append(lr.score(x_test_pr, y_test))\n",
    "\n",
    "plt.plot(order, Rsqu_test)\n",
    "plt.xlabel('order')\n",
    "plt.ylabel('R^2')\n",
    "plt.title('R^2 Using Test Data')\n",
    "plt.text(3, 0.75, 'Maximum R^2 ')    "
   ]
  },
  {
   "cell_type": "markdown",
   "metadata": {},
   "source": [
    "We see the R^2 gradually increases until an order three polynomial is used. Then the  R^2 dramatically decreases at four.\n"
   ]
  },
  {
   "cell_type": "markdown",
   "metadata": {},
   "source": [
    "The following function will be used in the next section; please run the cell.\n"
   ]
  },
  {
   "cell_type": "code",
   "execution_count": 107,
   "metadata": {},
   "outputs": [],
   "source": [
    "def f(order, test_data):\n",
    "    x_train, x_test, y_train, y_test = train_test_split(x_data, y_data, test_size=test_data, random_state=0)\n",
    "    pr = PolynomialFeatures(degree=order)\n",
    "    x_train_pr = pr.fit_transform(x_train[['horsepower']])\n",
    "    x_test_pr = pr.fit_transform(x_test[['horsepower']])\n",
    "    poly = LinearRegression()\n",
    "    poly.fit(x_train_pr,y_train)\n",
    "    PollyPlot(x_train[['horsepower']], x_test[['horsepower']], y_train,y_test, poly, pr)"
   ]
  },
  {
   "cell_type": "markdown",
   "metadata": {},
   "source": [
    "The following interface allows you to experiment with different polynomial orders and different amounts of data. \n"
   ]
  },
  {
   "cell_type": "code",
   "execution_count": 108,
   "metadata": {},
   "outputs": [
    {
     "data": {
      "application/vnd.jupyter.widget-view+json": {
       "model_id": "97a960b48ec14d7db2324e2decf9bf89",
       "version_major": 2,
       "version_minor": 0
      },
      "text/plain": [
       "interactive(children=(IntSlider(value=3, description='order', max=6), FloatSlider(value=0.45, description='tes…"
      ]
     },
     "metadata": {},
     "output_type": "display_data"
    },
    {
     "data": {
      "text/plain": [
       "<function __main__.f(order, test_data)>"
      ]
     },
     "execution_count": 108,
     "metadata": {},
     "output_type": "execute_result"
    }
   ],
   "source": [
    "interact(f, order=(0, 6, 1), test_data=(0.05, 0.95, 0.05))"
   ]
  },
  {
   "cell_type": "markdown",
   "metadata": {},
   "source": [
    "<div class=\"alert alert-danger alertdanger\" style=\"margin-top: 20px\">\n",
    "<h1> Question  #4a):</h1>\n",
    "\n",
    "<b>We can perform polynomial transformations with more than one feature. Create a \"PolynomialFeatures\" object \"pr1\" of degree two?</b>\n",
    "\n",
    "</div>\n"
   ]
  },
  {
   "cell_type": "code",
   "execution_count": 109,
   "metadata": {},
   "outputs": [],
   "source": [
    "pr1 = PolynomialFeatures(degree=2)"
   ]
  },
  {
   "cell_type": "markdown",
   "metadata": {},
   "source": [
    "Double-click <b>here</b> for the solution.\n",
    "\n",
    "<!-- The answer is below:\n",
    "\n",
    "pr1=PolynomialFeatures(degree=2)\n",
    "\n",
    "-->\n"
   ]
  },
  {
   "cell_type": "markdown",
   "metadata": {},
   "source": [
    "<div class=\"alert alert-danger alertdanger\" style=\"margin-top: 20px\">\n",
    "<h1> Question  #4b): </h1>\n",
    "\n",
    "<b> \n",
    " Transform the training and testing samples for the features 'horsepower', 'curb-weight', 'engine-size' and 'highway-mpg'. Hint: use the method \"fit_transform\" \n",
    "?</b>\n",
    "</div>\n"
   ]
  },
  {
   "cell_type": "code",
   "execution_count": 110,
   "metadata": {},
   "outputs": [],
   "source": [
    "x_train_pr1 = pr1.fit_transform(x_train[['horsepower', 'curb-weight', 'engine-size', 'highway-mpg']])\n",
    "x_test_pr1 = pr1.fit_transform(x_test[['horsepower', 'curb-weight', 'engine-size', 'highway-mpg']])"
   ]
  },
  {
   "cell_type": "markdown",
   "metadata": {},
   "source": [
    "Double-click <b>here</b> for the solution.\n",
    "\n",
    "<!-- The answer is below:\n",
    "\n",
    "x_train_pr1=pr1.fit_transform(x_train[['horsepower', 'curb-weight', 'engine-size', 'highway-mpg']])\n",
    "\n",
    "x_test_pr1=pr1.fit_transform(x_test[['horsepower', 'curb-weight', 'engine-size', 'highway-mpg']])\n",
    "\n",
    "-->\n"
   ]
  },
  {
   "cell_type": "markdown",
   "metadata": {},
   "source": [
    "<!-- The answer is below:\n",
    "\n",
    "x_train_pr1=pr.fit_transform(x_train[['horsepower', 'curb-weight', 'engine-size', 'highway-mpg']])\n",
    "x_test_pr1=pr.fit_transform(x_test[['horsepower', 'curb-weight', 'engine-size', 'highway-mpg']])\n",
    "\n",
    "-->\n"
   ]
  },
  {
   "cell_type": "markdown",
   "metadata": {},
   "source": [
    "<div class=\"alert alert-danger alertdanger\" style=\"margin-top: 20px\">\n",
    "<h1> Question  #4c): </h1>\n",
    "<b> \n",
    "How many dimensions does the new feature have? Hint: use the attribute \"shape\"\n",
    "</b>\n",
    "</div>\n"
   ]
  },
  {
   "cell_type": "code",
   "execution_count": 111,
   "metadata": {},
   "outputs": [
    {
     "data": {
      "text/plain": [
       "(110, 15)"
      ]
     },
     "execution_count": 111,
     "metadata": {},
     "output_type": "execute_result"
    }
   ],
   "source": [
    "x_train_pr1.shape"
   ]
  },
  {
   "cell_type": "markdown",
   "metadata": {},
   "source": [
    "Double-click <b>here</b> for the solution.\n",
    "\n",
    "<!-- The answer is below:\n",
    "\n",
    " x_train_pr1.shape #There are now 15 features:\n",
    "\n",
    "-->\n"
   ]
  },
  {
   "cell_type": "markdown",
   "metadata": {},
   "source": [
    "<div class=\"alert alert-danger alertdanger\" style=\"margin-top: 20px\">\n",
    "<h1> Question  #4d): </h1>\n",
    "\n",
    "<b> \n",
    "Create a linear regression model \"poly1\" and train the object using the method \"fit\" using the polynomial features?</b>\n",
    "</div>\n"
   ]
  },
  {
   "cell_type": "code",
   "execution_count": 112,
   "metadata": {},
   "outputs": [
    {
     "data": {
      "text/plain": [
       "LinearRegression()"
      ]
     },
     "execution_count": 112,
     "metadata": {},
     "output_type": "execute_result"
    }
   ],
   "source": [
    "poly1 = LinearRegression()\n",
    "poly1.fit(x_train_pr1, y_train)"
   ]
  },
  {
   "cell_type": "markdown",
   "metadata": {},
   "source": [
    "Double-click <b>here</b> for the solution.\n",
    "\n",
    "<!-- The answer is below:\n",
    "\n",
    "poly1=LinearRegression().fit(x_train_pr1,y_train)\n",
    "\n",
    "-->\n"
   ]
  },
  {
   "cell_type": "code",
   "execution_count": 113,
   "metadata": {},
   "outputs": [
    {
     "data": {
      "text/plain": [
       "0.8530555611105212"
      ]
     },
     "execution_count": 113,
     "metadata": {},
     "output_type": "execute_result"
    }
   ],
   "source": [
    "poly1.score(x_train_pr1, y_train)"
   ]
  },
  {
   "cell_type": "code",
   "execution_count": 114,
   "metadata": {},
   "outputs": [
    {
     "data": {
      "text/plain": [
       "0.6045072506732141"
      ]
     },
     "execution_count": 114,
     "metadata": {},
     "output_type": "execute_result"
    }
   ],
   "source": [
    "poly1.score(x_test_pr1, y_test)"
   ]
  },
  {
   "cell_type": "code",
   "execution_count": 115,
   "metadata": {},
   "outputs": [
    {
     "name": "stderr",
     "output_type": "stream",
     "text": [
      "C:\\Users\\Declan\\Anaconda3\\lib\\site-packages\\seaborn\\distributions.py:2551: FutureWarning: `distplot` is a deprecated function and will be removed in a future version. Please adapt your code to use either `displot` (a figure-level function with similar flexibility) or `kdeplot` (an axes-level function for kernel density plots).\n",
      "  warnings.warn(msg, FutureWarning)\n",
      "C:\\Users\\Declan\\Anaconda3\\lib\\site-packages\\seaborn\\distributions.py:2551: FutureWarning: `distplot` is a deprecated function and will be removed in a future version. Please adapt your code to use either `displot` (a figure-level function with similar flexibility) or `kdeplot` (an axes-level function for kernel density plots).\n",
      "  warnings.warn(msg, FutureWarning)\n"
     ]
    },
    {
     "data": {
      "image/png": "[encoded data removed]",
      "text/plain": [
       "<Figure size 864x720 with 1 Axes>"
      ]
     },
     "metadata": {
      "needs_background": "light"
     },
     "output_type": "display_data"
    }
   ],
   "source": [
    "yhat_train = poly1.predict(x_train_pr1)\n",
    "DistributionPlot(yhat_train, y_train, 'predicted', 'actual', 'Prediction of training data')"
   ]
  },
  {
   "cell_type": "markdown",
   "metadata": {},
   "source": [
    " <div class=\"alert alert-danger alertdanger\" style=\"margin-top: 20px\">\n",
    "<h1> Question  #4e): </h1>\n",
    "<b>Use the method  \"predict\" to predict an output on the polynomial features, then use the function \"DistributionPlot\"  to display the distribution of the predicted output vs the test data?</b>\n",
    "</div>\n"
   ]
  },
  {
   "cell_type": "code",
   "execution_count": 116,
   "metadata": {},
   "outputs": [
    {
     "name": "stderr",
     "output_type": "stream",
     "text": [
      "C:\\Users\\Declan\\Anaconda3\\lib\\site-packages\\seaborn\\distributions.py:2551: FutureWarning: `distplot` is a deprecated function and will be removed in a future version. Please adapt your code to use either `displot` (a figure-level function with similar flexibility) or `kdeplot` (an axes-level function for kernel density plots).\n",
      "  warnings.warn(msg, FutureWarning)\n",
      "C:\\Users\\Declan\\Anaconda3\\lib\\site-packages\\seaborn\\distributions.py:2551: FutureWarning: `distplot` is a deprecated function and will be removed in a future version. Please adapt your code to use either `displot` (a figure-level function with similar flexibility) or `kdeplot` (an axes-level function for kernel density plots).\n",
      "  warnings.warn(msg, FutureWarning)\n"
     ]
    },
    {
     "data": {
      "image/png": "[encoded data removed]",
      "text/plain": [
       "<Figure size 864x720 with 1 Axes>"
      ]
     },
     "metadata": {
      "needs_background": "light"
     },
     "output_type": "display_data"
    }
   ],
   "source": [
    "\n",
    "yhat_test = poly1.predict(x_test_pr1)\n",
    "DistributionPlot(yhat_test, y_test, 'predicted', 'actual', 'Prediction of test data')"
   ]
  },
  {
   "cell_type": "markdown",
   "metadata": {},
   "source": [
    "Double-click <b>here</b> for the solution.\n",
    "\n",
    "<!-- The answer is below:\n",
    "\n",
    "yhat_test1=poly1.predict(x_test_pr1)\n",
    "Title='Distribution  Plot of  Predicted Value Using Test Data vs Data Distribution of Test Data'\n",
    "DistributionPlot(y_test, yhat_test1, \"Actual Values (Test)\", \"Predicted Values (Test)\", Title)\n",
    "\n",
    "-->\n"
   ]
  },
  {
   "cell_type": "markdown",
   "metadata": {},
   "source": [
    "<div class=\"alert alert-danger alertdanger\" style=\"margin-top: 20px\">\n",
    "<h1> Question  #4f): </h1>\n",
    "\n",
    "<b>Using the distribution plot above, explain in words about the two regions were the predicted prices are less accurate than the actual prices</b>\n",
    "\n",
    "</div>\n"
   ]
  },
  {
   "cell_type": "code",
   "execution_count": null,
   "metadata": {},
   "outputs": [],
   "source": []
  },
  {
   "cell_type": "markdown",
   "metadata": {},
   "source": [
    "Double-click <b>here</b> for the solution.\n",
    "\n",
    "<!-- The answer is below:\n",
    "\n",
    "The predicted value is higher than actual value for cars where the price  $ 10,000 range, conversely the predicted price is lower than the price cost in the $30,000 to $40,000 range. As such the model is not as accurate in these ranges .\n",
    "    \n",
    "-->\n"
   ]
  },
  {
   "cell_type": "markdown",
   "metadata": {},
   "source": [
    "<h2 id=\"ref3\">Part 3: Ridge regression</h2> \n"
   ]
  },
  {
   "cell_type": "markdown",
   "metadata": {},
   "source": [
    " In this section, we will review Ridge Regression we will see how the parameter Alfa changes the model. Just a note here our test data will be used as validation data.\n"
   ]
  },
  {
   "cell_type": "markdown",
   "metadata": {},
   "source": [
    " Let's perform a degree two polynomial transformation on our data. \n"
   ]
  },
  {
   "cell_type": "code",
   "execution_count": 117,
   "metadata": {},
   "outputs": [],
   "source": [
    "pr=PolynomialFeatures(degree=2)\n",
    "x_train_pr=pr.fit_transform(x_train[['horsepower', 'curb-weight', 'engine-size', 'highway-mpg','normalized-losses','symboling']])\n",
    "x_test_pr=pr.fit_transform(x_test[['horsepower', 'curb-weight', 'engine-size', 'highway-mpg','normalized-losses','symboling']])"
   ]
  },
  {
   "cell_type": "markdown",
   "metadata": {},
   "source": [
    " Let's import  <b>Ridge</b>  from the module <b>linear models</b>.\n"
   ]
  },
  {
   "cell_type": "code",
   "execution_count": 118,
   "metadata": {},
   "outputs": [],
   "source": [
    "from sklearn.linear_model import Ridge"
   ]
  },
  {
   "cell_type": "markdown",
   "metadata": {},
   "source": [
    "Let's create a Ridge regression object, setting the regularization parameter to 0.1 \n"
   ]
  },
  {
   "cell_type": "code",
   "execution_count": 119,
   "metadata": {},
   "outputs": [],
   "source": [
    "RigeModel=Ridge(alpha=0.1)"
   ]
  },
  {
   "cell_type": "markdown",
   "metadata": {},
   "source": [
    "Like regular regression, you can fit the model using the method <b>fit</b>.\n"
   ]
  },
  {
   "cell_type": "code",
   "execution_count": 120,
   "metadata": {},
   "outputs": [
    {
     "name": "stderr",
     "output_type": "stream",
     "text": [
      "C:\\Users\\Declan\\Anaconda3\\lib\\site-packages\\sklearn\\linear_model\\_ridge.py:147: LinAlgWarning: Ill-conditioned matrix (rcond=1.02972e-16): result may not be accurate.\n",
      "  return linalg.solve(A, Xy, sym_pos=True,\n"
     ]
    },
    {
     "data": {
      "text/plain": [
       "Ridge(alpha=0.1)"
      ]
     },
     "execution_count": 120,
     "metadata": {},
     "output_type": "execute_result"
    }
   ],
   "source": [
    "RigeModel.fit(x_train_pr, y_train)"
   ]
  },
  {
   "cell_type": "markdown",
   "metadata": {},
   "source": [
    " Similarly, you can obtain a prediction: \n"
   ]
  },
  {
   "cell_type": "code",
   "execution_count": 121,
   "metadata": {},
   "outputs": [],
   "source": [
    "yhat = RigeModel.predict(x_test_pr)"
   ]
  },
  {
   "cell_type": "markdown",
   "metadata": {},
   "source": [
    "Let's compare the first five predicted samples to our test set \n"
   ]
  },
  {
   "cell_type": "code",
   "execution_count": 122,
   "metadata": {},
   "outputs": [
    {
     "name": "stdout",
     "output_type": "stream",
     "text": [
      "predicted: [ 6567.83081933  9597.97151399 20836.22326844 19347.69543463]\n",
      "test set : [ 6295. 10698. 13860. 13499.]\n"
     ]
    }
   ],
   "source": [
    "print('predicted:', yhat[0:4])\n",
    "print('test set :', y_test[0:4].values)"
   ]
  },
  {
   "cell_type": "markdown",
   "metadata": {},
   "source": [
    "We select the value of Alpha that minimizes the test error, for example, we can use a for loop. \n"
   ]
  },
  {
   "cell_type": "code",
   "execution_count": 123,
   "metadata": {},
   "outputs": [],
   "source": [
    "Rsqu_test = []\n",
    "Rsqu_train = []\n",
    "dummy1 = []\n",
    "Alpha = 10 * np.array(range(0,1000))\n",
    "for alpha in Alpha:\n",
    "    RigeModel = Ridge(alpha=alpha) \n",
    "    RigeModel.fit(x_train_pr, y_train)\n",
    "    Rsqu_test.append(RigeModel.score(x_test_pr, y_test))\n",
    "    Rsqu_train.append(RigeModel.score(x_train_pr, y_train))"
   ]
  },
  {
   "cell_type": "markdown",
   "metadata": {},
   "source": [
    "We can plot out the value of R^2 for different Alphas \n"
   ]
  },
  {
   "cell_type": "code",
   "execution_count": 124,
   "metadata": {},
   "outputs": [
    {
     "data": {
      "text/plain": [
       "<matplotlib.legend.Legend at 0x10f43ac1910>"
      ]
     },
     "execution_count": 124,
     "metadata": {},
     "output_type": "execute_result"
    },
    {
     "data": {
      "image/png": "[encoded data removed]",
      "text/plain": [
       "<Figure size 864x720 with 1 Axes>"
      ]
     },
     "metadata": {
      "needs_background": "light"
     },
     "output_type": "display_data"
    }
   ],
   "source": [
    "width = 12\n",
    "height = 10\n",
    "plt.figure(figsize=(width, height))\n",
    "\n",
    "plt.plot(Alpha,Rsqu_test, label='validation data  ')\n",
    "plt.plot(Alpha,Rsqu_train, 'r', label='training Data ')\n",
    "plt.xlabel('alpha')\n",
    "plt.ylabel('R^2')\n",
    "plt.legend()"
   ]
  },
  {
   "cell_type": "markdown",
   "metadata": {},
   "source": [
    "**Figure 6**:The blue line represents the R^2 of the validation data, and the red line represents the R^2 of the training data. The x-axis represents the different values of Alpha. \n"
   ]
  },
  {
   "cell_type": "markdown",
   "metadata": {},
   "source": [
    "Here the model is built and tested on the same data. So the training and test data are the same.\n",
    "\n",
    "The red line in figure 6 represents the R^2 of the test data.  \n",
    "As Alpha increases the R^2 decreases.  \n",
    "Therefore as Alpha increases the model performs worse on the test data.  \n",
    "\n",
    "The blue line represents the R^2 on the validation data.  \n",
    "As the value for Alpha increases the R^2 increases and converges at a point  \n"
   ]
  },
  {
   "cell_type": "markdown",
   "metadata": {},
   "source": [
    "<div class=\"alert alert-danger alertdanger\" style=\"margin-top: 20px\">\n",
    "<h1> Question  #5): </h1>\n",
    "\n",
    "Perform Ridge regression and calculate the R^2 using the polynomial features, use the training data to train the model and test data to test the model. The parameter alpha should be set to  10.\n",
    "\n",
    "</div>\n"
   ]
  },
  {
   "cell_type": "code",
   "execution_count": 125,
   "metadata": {},
   "outputs": [
    {
     "name": "stdout",
     "output_type": "stream",
     "text": [
      "0.5418576440210072\n"
     ]
    }
   ],
   "source": [
    "# Write your code below and press Shift+Enter to execute \n",
    "ridge_model = Ridge(alpha=10)\n",
    "ridge_model.fit(x_train_pr, y_train)\n",
    "score = ridge_model.score(x_test_pr, y_test)\n",
    "print(score)"
   ]
  },
  {
   "cell_type": "code",
   "execution_count": 126,
   "metadata": {},
   "outputs": [
    {
     "name": "stdout",
     "output_type": "stream",
     "text": [
      "0.7705286358428156\n"
     ]
    }
   ],
   "source": [
    "ridge_model = Ridge(alpha=2e10)\n",
    "ridge_model.fit(x_train_pr, y_train)\n",
    "score = ridge_model.score(x_test_pr, y_test)\n",
    "print(score)"
   ]
  },
  {
   "cell_type": "markdown",
   "metadata": {},
   "source": [
    "Double-click <b>here</b> for the solution.\n",
    "\n",
    "<!-- The answer is below:\n",
    "\n",
    "RigeModel = Ridge(alpha=10) \n",
    "RigeModel.fit(x_train_pr, y_train)\n",
    "RigeModel.score(x_test_pr, y_test)\n",
    "\n",
    "-->\n"
   ]
  },
  {
   "cell_type": "markdown",
   "metadata": {},
   "source": [
    "<h2 id=\"ref4\">Part 4: Grid Search</h2>\n"
   ]
  },
  {
   "cell_type": "markdown",
   "metadata": {},
   "source": [
    "The term Alfa is a hyperparameter, sklearn has the class  <b>GridSearchCV</b> to make the process of finding the best hyperparameter simpler.\n"
   ]
  },
  {
   "cell_type": "markdown",
   "metadata": {},
   "source": [
    "Let's import <b>GridSearchCV</b> from  the module <b>model_selection</b>.\n"
   ]
  },
  {
   "cell_type": "code",
   "execution_count": 127,
   "metadata": {},
   "outputs": [],
   "source": [
    "from sklearn.model_selection import GridSearchCV"
   ]
  },
  {
   "cell_type": "markdown",
   "metadata": {},
   "source": [
    "We create a dictionary of parameter values:\n"
   ]
  },
  {
   "cell_type": "code",
   "execution_count": 128,
   "metadata": {},
   "outputs": [
    {
     "data": {
      "text/plain": [
       "[{'alpha': [0.001, 0.1, 1, 10, 100, 1000, 10000, 100000, 100000]}]"
      ]
     },
     "execution_count": 128,
     "metadata": {},
     "output_type": "execute_result"
    }
   ],
   "source": [
    "parameters1= [{'alpha': [0.001,0.1,1, 10, 100, 1000, 10000, 100000, 100000]}]\n",
    "parameters1"
   ]
  },
  {
   "cell_type": "markdown",
   "metadata": {},
   "source": [
    "Create a ridge regions object:\n"
   ]
  },
  {
   "cell_type": "code",
   "execution_count": 129,
   "metadata": {},
   "outputs": [
    {
     "data": {
      "text/plain": [
       "Ridge()"
      ]
     },
     "execution_count": 129,
     "metadata": {},
     "output_type": "execute_result"
    }
   ],
   "source": [
    "RR=Ridge()\n",
    "RR"
   ]
  },
  {
   "cell_type": "markdown",
   "metadata": {},
   "source": [
    "Create a ridge grid search object \n"
   ]
  },
  {
   "cell_type": "code",
   "execution_count": 130,
   "metadata": {},
   "outputs": [],
   "source": [
    "Grid1 = GridSearchCV(RR, parameters1,cv=4)"
   ]
  },
  {
   "cell_type": "markdown",
   "metadata": {},
   "source": [
    "Fit the model \n"
   ]
  },
  {
   "cell_type": "code",
   "execution_count": 131,
   "metadata": {},
   "outputs": [
    {
     "data": {
      "text/plain": [
       "GridSearchCV(cv=4, estimator=Ridge(),\n",
       "             param_grid=[{'alpha': [0.001, 0.1, 1, 10, 100, 1000, 10000, 100000,\n",
       "                                    100000]}])"
      ]
     },
     "execution_count": 131,
     "metadata": {},
     "output_type": "execute_result"
    }
   ],
   "source": [
    "Grid1.fit(x_data[['horsepower', 'curb-weight', 'engine-size', 'highway-mpg']], y_data)"
   ]
  },
  {
   "cell_type": "markdown",
   "metadata": {},
   "source": [
    "The object finds the best parameter values on the validation data. We can obtain the estimator with the best parameters and assign it to the variable BestRR as follows:\n"
   ]
  },
  {
   "cell_type": "code",
   "execution_count": 132,
   "metadata": {},
   "outputs": [
    {
     "data": {
      "text/plain": [
       "Ridge(alpha=10000)"
      ]
     },
     "execution_count": 132,
     "metadata": {},
     "output_type": "execute_result"
    }
   ],
   "source": [
    "BestRR=Grid1.best_estimator_\n",
    "BestRR"
   ]
  },
  {
   "cell_type": "markdown",
   "metadata": {},
   "source": [
    " We now test our model on the test data \n"
   ]
  },
  {
   "cell_type": "code",
   "execution_count": 133,
   "metadata": {},
   "outputs": [
    {
     "data": {
      "text/plain": [
       "0.841164983103615"
      ]
     },
     "execution_count": 133,
     "metadata": {},
     "output_type": "execute_result"
    }
   ],
   "source": [
    "BestRR.score(x_test[['horsepower', 'curb-weight', 'engine-size', 'highway-mpg']], y_test)"
   ]
  },
  {
   "cell_type": "markdown",
   "metadata": {},
   "source": [
    "<div class=\"alert alert-danger alertdanger\" style=\"margin-top: 20px\">\n",
    "<h1> Question  #6): </h1>\n",
    "Perform a grid search for the alpha parameter and the normalization parameter, then find the best values of the parameters\n",
    "</div>\n"
   ]
  },
  {
   "cell_type": "code",
   "execution_count": 143,
   "metadata": {},
   "outputs": [],
   "source": [
    "# Write your code below and press Shift+Enter to execute \n",
    "x_feat2 = ['horsepower', 'curb-weight', 'engine-size', 'highway-mpg', 'normalized-losses', 'symboling']\n",
    "ridge2 = Ridge()\n",
    "params2 = [{'alpha':np.geomspace(1e-3,1e10,50), 'normalize':[True, False]}]\n",
    "# params2 = [{'normalize':[True, False]}]\n",
    "grid2 = GridSearchCV(ridge2, params2, cv=3)\n",
    "grid2.fit(x_data[x_feat2], y_data)\n",
    "print(grid2.best_score_)\n",
    "(grid2.best_estimator_) # best trained model of the 3\n",
    "scores = grid2.cv_results_\n"
   ]
  },
  {
   "cell_type": "code",
   "execution_count": 152,
   "metadata": {},
   "outputs": [
    {
     "name": "stdout",
     "output_type": "stream",
     "text": [
      "0.6992394943985044\n",
      "Ridge(alpha=0.24420530945486524, normalize=True)\n"
     ]
    }
   ],
   "source": [
    "print(grid2.best_score_)\n",
    "print(grid2.best_estimator_)"
   ]
  },
  {
   "cell_type": "code",
   "execution_count": 151,
   "metadata": {},
   "outputs": [
    {
     "data": {
      "text/html": [
       "<div>\n",
       "<style scoped>\n",
       "    .dataframe tbody tr th:only-of-type {\n",
       "        vertical-align: middle;\n",
       "    }\n",
       "\n",
       "    .dataframe tbody tr th {\n",
       "        vertical-align: top;\n",
       "    }\n",
       "\n",
       "    .dataframe thead th {\n",
       "        text-align: right;\n",
       "    }\n",
       "</style>\n",
       "<table border=\"1\" class=\"dataframe\">\n",
       "  <thead>\n",
       "    <tr style=\"text-align: right;\">\n",
       "      <th></th>\n",
       "      <th>mean_fit_time</th>\n",
       "      <th>std_fit_time</th>\n",
       "      <th>mean_score_time</th>\n",
       "      <th>std_score_time</th>\n",
       "      <th>param_alpha</th>\n",
       "      <th>param_normalize</th>\n",
       "      <th>params</th>\n",
       "      <th>split0_test_score</th>\n",
       "      <th>split1_test_score</th>\n",
       "      <th>split2_test_score</th>\n",
       "      <th>mean_test_score</th>\n",
       "      <th>std_test_score</th>\n",
       "      <th>rank_test_score</th>\n",
       "    </tr>\n",
       "  </thead>\n",
       "  <tbody>\n",
       "    <tr>\n",
       "      <th>0</th>\n",
       "      <td>0.003664</td>\n",
       "      <td>9.411672e-04</td>\n",
       "      <td>0.001999</td>\n",
       "      <td>4.495664e-07</td>\n",
       "      <td>0.001</td>\n",
       "      <td>True</td>\n",
       "      <td>{'alpha': 0.001, 'normalize': True}</td>\n",
       "      <td>0.779355</td>\n",
       "      <td>0.706818</td>\n",
       "      <td>0.560334</td>\n",
       "      <td>0.682169</td>\n",
       "      <td>0.091098</td>\n",
       "      <td>24</td>\n",
       "    </tr>\n",
       "    <tr>\n",
       "      <th>1</th>\n",
       "      <td>0.002998</td>\n",
       "      <td>7.018853e-07</td>\n",
       "      <td>0.002332</td>\n",
       "      <td>4.709208e-04</td>\n",
       "      <td>0.001</td>\n",
       "      <td>False</td>\n",
       "      <td>{'alpha': 0.001, 'normalize': False}</td>\n",
       "      <td>0.779013</td>\n",
       "      <td>0.706148</td>\n",
       "      <td>0.560197</td>\n",
       "      <td>0.681786</td>\n",
       "      <td>0.090977</td>\n",
       "      <td>41</td>\n",
       "    </tr>\n",
       "    <tr>\n",
       "      <th>2</th>\n",
       "      <td>0.002998</td>\n",
       "      <td>5.947204e-07</td>\n",
       "      <td>0.002332</td>\n",
       "      <td>4.706960e-04</td>\n",
       "      <td>0.00184207</td>\n",
       "      <td>True</td>\n",
       "      <td>{'alpha': 0.0018420699693267163, 'normalize': ...</td>\n",
       "      <td>0.779640</td>\n",
       "      <td>0.707367</td>\n",
       "      <td>0.560446</td>\n",
       "      <td>0.682484</td>\n",
       "      <td>0.091199</td>\n",
       "      <td>22</td>\n",
       "    </tr>\n",
       "    <tr>\n",
       "      <th>3</th>\n",
       "      <td>0.002332</td>\n",
       "      <td>4.711456e-04</td>\n",
       "      <td>0.001999</td>\n",
       "      <td>0.000000e+00</td>\n",
       "      <td>0.00184207</td>\n",
       "      <td>False</td>\n",
       "      <td>{'alpha': 0.0018420699693267163, 'normalize': ...</td>\n",
       "      <td>0.779013</td>\n",
       "      <td>0.706148</td>\n",
       "      <td>0.560197</td>\n",
       "      <td>0.681786</td>\n",
       "      <td>0.090977</td>\n",
       "      <td>40</td>\n",
       "    </tr>\n",
       "    <tr>\n",
       "      <th>4</th>\n",
       "      <td>0.002998</td>\n",
       "      <td>0.000000e+00</td>\n",
       "      <td>0.001999</td>\n",
       "      <td>1.123916e-07</td>\n",
       "      <td>0.00339322</td>\n",
       "      <td>True</td>\n",
       "      <td>{'alpha': 0.00339322177189533, 'normalize': True}</td>\n",
       "      <td>0.780155</td>\n",
       "      <td>0.708344</td>\n",
       "      <td>0.560647</td>\n",
       "      <td>0.683049</td>\n",
       "      <td>0.091381</td>\n",
       "      <td>19</td>\n",
       "    </tr>\n",
       "    <tr>\n",
       "      <th>5</th>\n",
       "      <td>0.002665</td>\n",
       "      <td>4.712580e-04</td>\n",
       "      <td>0.001999</td>\n",
       "      <td>1.123916e-07</td>\n",
       "      <td>0.00339322</td>\n",
       "      <td>False</td>\n",
       "      <td>{'alpha': 0.00339322177189533, 'normalize': Fa...</td>\n",
       "      <td>0.779013</td>\n",
       "      <td>0.706148</td>\n",
       "      <td>0.560197</td>\n",
       "      <td>0.681786</td>\n",
       "      <td>0.090977</td>\n",
       "      <td>39</td>\n",
       "    </tr>\n",
       "    <tr>\n",
       "      <th>6</th>\n",
       "      <td>0.001999</td>\n",
       "      <td>2.247832e-07</td>\n",
       "      <td>0.001999</td>\n",
       "      <td>1.123916e-07</td>\n",
       "      <td>0.00625055</td>\n",
       "      <td>True</td>\n",
       "      <td>{'alpha': 0.006250551925273976, 'normalize': T...</td>\n",
       "      <td>0.781074</td>\n",
       "      <td>0.710034</td>\n",
       "      <td>0.560996</td>\n",
       "      <td>0.684035</td>\n",
       "      <td>0.091708</td>\n",
       "      <td>16</td>\n",
       "    </tr>\n",
       "    <tr>\n",
       "      <th>7</th>\n",
       "      <td>0.002665</td>\n",
       "      <td>4.709771e-04</td>\n",
       "      <td>0.001332</td>\n",
       "      <td>4.709771e-04</td>\n",
       "      <td>0.00625055</td>\n",
       "      <td>False</td>\n",
       "      <td>{'alpha': 0.006250551925273976, 'normalize': F...</td>\n",
       "      <td>0.779013</td>\n",
       "      <td>0.706148</td>\n",
       "      <td>0.560197</td>\n",
       "      <td>0.681786</td>\n",
       "      <td>0.090977</td>\n",
       "      <td>38</td>\n",
       "    </tr>\n",
       "    <tr>\n",
       "      <th>8</th>\n",
       "      <td>0.002665</td>\n",
       "      <td>4.711456e-04</td>\n",
       "      <td>0.001999</td>\n",
       "      <td>2.973602e-07</td>\n",
       "      <td>0.011514</td>\n",
       "      <td>True</td>\n",
       "      <td>{'alpha': 0.011513953993264475, 'normalize': T...</td>\n",
       "      <td>0.782674</td>\n",
       "      <td>0.712822</td>\n",
       "      <td>0.561572</td>\n",
       "      <td>0.685689</td>\n",
       "      <td>0.092281</td>\n",
       "      <td>13</td>\n",
       "    </tr>\n",
       "    <tr>\n",
       "      <th>9</th>\n",
       "      <td>0.002998</td>\n",
       "      <td>2.973602e-07</td>\n",
       "      <td>0.001999</td>\n",
       "      <td>1.123916e-07</td>\n",
       "      <td>0.011514</td>\n",
       "      <td>False</td>\n",
       "      <td>{'alpha': 0.011513953993264475, 'normalize': F...</td>\n",
       "      <td>0.779013</td>\n",
       "      <td>0.706148</td>\n",
       "      <td>0.560197</td>\n",
       "      <td>0.681786</td>\n",
       "      <td>0.090977</td>\n",
       "      <td>37</td>\n",
       "    </tr>\n",
       "    <tr>\n",
       "      <th>10</th>\n",
       "      <td>0.002998</td>\n",
       "      <td>1.946680e-07</td>\n",
       "      <td>0.001999</td>\n",
       "      <td>2.247832e-07</td>\n",
       "      <td>0.0212095</td>\n",
       "      <td>True</td>\n",
       "      <td>{'alpha': 0.021209508879201915, 'normalize': T...</td>\n",
       "      <td>0.785329</td>\n",
       "      <td>0.717061</td>\n",
       "      <td>0.562441</td>\n",
       "      <td>0.688277</td>\n",
       "      <td>0.093242</td>\n",
       "      <td>8</td>\n",
       "    </tr>\n",
       "    <tr>\n",
       "      <th>11</th>\n",
       "      <td>0.002998</td>\n",
       "      <td>1.123916e-07</td>\n",
       "      <td>0.001999</td>\n",
       "      <td>1.946680e-07</td>\n",
       "      <td>0.0212095</td>\n",
       "      <td>False</td>\n",
       "      <td>{'alpha': 0.021209508879201915, 'normalize': F...</td>\n",
       "      <td>0.779013</td>\n",
       "      <td>0.706149</td>\n",
       "      <td>0.560198</td>\n",
       "      <td>0.681787</td>\n",
       "      <td>0.090977</td>\n",
       "      <td>36</td>\n",
       "    </tr>\n",
       "    <tr>\n",
       "      <th>12</th>\n",
       "      <td>0.002998</td>\n",
       "      <td>4.052337e-07</td>\n",
       "      <td>0.001999</td>\n",
       "      <td>2.973602e-07</td>\n",
       "      <td>0.0390694</td>\n",
       "      <td>True</td>\n",
       "      <td>{'alpha': 0.03906939937054617, 'normalize': True}</td>\n",
       "      <td>0.789373</td>\n",
       "      <td>0.722723</td>\n",
       "      <td>0.563545</td>\n",
       "      <td>0.691880</td>\n",
       "      <td>0.094738</td>\n",
       "      <td>5</td>\n",
       "    </tr>\n",
       "    <tr>\n",
       "      <th>13</th>\n",
       "      <td>0.002998</td>\n",
       "      <td>2.247832e-07</td>\n",
       "      <td>0.001999</td>\n",
       "      <td>1.123916e-07</td>\n",
       "      <td>0.0390694</td>\n",
       "      <td>False</td>\n",
       "      <td>{'alpha': 0.03906939937054617, 'normalize': Fa...</td>\n",
       "      <td>0.779013</td>\n",
       "      <td>0.706150</td>\n",
       "      <td>0.560198</td>\n",
       "      <td>0.681787</td>\n",
       "      <td>0.090977</td>\n",
       "      <td>35</td>\n",
       "    </tr>\n",
       "    <tr>\n",
       "      <th>14</th>\n",
       "      <td>0.002665</td>\n",
       "      <td>4.713142e-04</td>\n",
       "      <td>0.001999</td>\n",
       "      <td>4.052337e-07</td>\n",
       "      <td>0.0719686</td>\n",
       "      <td>True</td>\n",
       "      <td>{'alpha': 0.07196856730011521, 'normalize': True}</td>\n",
       "      <td>0.794640</td>\n",
       "      <td>0.728846</td>\n",
       "      <td>0.564534</td>\n",
       "      <td>0.696007</td>\n",
       "      <td>0.096768</td>\n",
       "      <td>3</td>\n",
       "    </tr>\n",
       "    <tr>\n",
       "      <th>15</th>\n",
       "      <td>0.002332</td>\n",
       "      <td>4.709770e-04</td>\n",
       "      <td>0.001666</td>\n",
       "      <td>4.709770e-04</td>\n",
       "      <td>0.0719686</td>\n",
       "      <td>False</td>\n",
       "      <td>{'alpha': 0.07196856730011521, 'normalize': Fa...</td>\n",
       "      <td>0.779013</td>\n",
       "      <td>0.706151</td>\n",
       "      <td>0.560199</td>\n",
       "      <td>0.681788</td>\n",
       "      <td>0.090976</td>\n",
       "      <td>34</td>\n",
       "    </tr>\n",
       "    <tr>\n",
       "      <th>16</th>\n",
       "      <td>0.002998</td>\n",
       "      <td>1.123916e-07</td>\n",
       "      <td>0.000999</td>\n",
       "      <td>1.123916e-07</td>\n",
       "      <td>0.132571</td>\n",
       "      <td>True</td>\n",
       "      <td>{'alpha': 0.13257113655901095, 'normalize': True}</td>\n",
       "      <td>0.799607</td>\n",
       "      <td>0.733202</td>\n",
       "      <td>0.564854</td>\n",
       "      <td>0.699221</td>\n",
       "      <td>0.098804</td>\n",
       "      <td>2</td>\n",
       "    </tr>\n",
       "    <tr>\n",
       "      <th>17</th>\n",
       "      <td>0.001999</td>\n",
       "      <td>1.123916e-07</td>\n",
       "      <td>0.001999</td>\n",
       "      <td>1.123916e-07</td>\n",
       "      <td>0.132571</td>\n",
       "      <td>False</td>\n",
       "      <td>{'alpha': 0.13257113655901095, 'normalize': Fa...</td>\n",
       "      <td>0.779013</td>\n",
       "      <td>0.706154</td>\n",
       "      <td>0.560201</td>\n",
       "      <td>0.681789</td>\n",
       "      <td>0.090976</td>\n",
       "      <td>33</td>\n",
       "    </tr>\n",
       "    <tr>\n",
       "      <th>18</th>\n",
       "      <td>0.001999</td>\n",
       "      <td>1.123916e-07</td>\n",
       "      <td>0.001999</td>\n",
       "      <td>2.247832e-07</td>\n",
       "      <td>0.244205</td>\n",
       "      <td>True</td>\n",
       "      <td>{'alpha': 0.24420530945486524, 'normalize': True}</td>\n",
       "      <td>0.800672</td>\n",
       "      <td>0.732498</td>\n",
       "      <td>0.564548</td>\n",
       "      <td>0.699239</td>\n",
       "      <td>0.099224</td>\n",
       "      <td>1</td>\n",
       "    </tr>\n",
       "    <tr>\n",
       "      <th>19</th>\n",
       "      <td>0.001999</td>\n",
       "      <td>1.946680e-07</td>\n",
       "      <td>0.001999</td>\n",
       "      <td>1.123916e-07</td>\n",
       "      <td>0.244205</td>\n",
       "      <td>False</td>\n",
       "      <td>{'alpha': 0.24420530945486524, 'normalize': Fa...</td>\n",
       "      <td>0.779014</td>\n",
       "      <td>0.706158</td>\n",
       "      <td>0.560205</td>\n",
       "      <td>0.681792</td>\n",
       "      <td>0.090975</td>\n",
       "      <td>32</td>\n",
       "    </tr>\n",
       "    <tr>\n",
       "      <th>20</th>\n",
       "      <td>0.002665</td>\n",
       "      <td>4.712580e-04</td>\n",
       "      <td>0.001666</td>\n",
       "      <td>4.712580e-04</td>\n",
       "      <td>0.449843</td>\n",
       "      <td>True</td>\n",
       "      <td>{'alpha': 0.44984326689694487, 'normalize': True}</td>\n",
       "      <td>0.792170</td>\n",
       "      <td>0.722436</td>\n",
       "      <td>0.564267</td>\n",
       "      <td>0.692958</td>\n",
       "      <td>0.095347</td>\n",
       "      <td>4</td>\n",
       "    </tr>\n",
       "    <tr>\n",
       "      <th>21</th>\n",
       "      <td>0.002665</td>\n",
       "      <td>4.709770e-04</td>\n",
       "      <td>0.001666</td>\n",
       "      <td>4.712580e-04</td>\n",
       "      <td>0.449843</td>\n",
       "      <td>False</td>\n",
       "      <td>{'alpha': 0.44984326689694487, 'normalize': Fa...</td>\n",
       "      <td>0.779015</td>\n",
       "      <td>0.706167</td>\n",
       "      <td>0.560211</td>\n",
       "      <td>0.681798</td>\n",
       "      <td>0.090973</td>\n",
       "      <td>31</td>\n",
       "    </tr>\n",
       "    <tr>\n",
       "      <th>22</th>\n",
       "      <td>0.002665</td>\n",
       "      <td>4.710332e-04</td>\n",
       "      <td>0.001332</td>\n",
       "      <td>4.710894e-04</td>\n",
       "      <td>0.828643</td>\n",
       "      <td>True</td>\n",
       "      <td>{'alpha': 0.8286427728546851, 'normalize': True}</td>\n",
       "      <td>0.765931</td>\n",
       "      <td>0.696333</td>\n",
       "      <td>0.559273</td>\n",
       "      <td>0.673846</td>\n",
       "      <td>0.085853</td>\n",
       "      <td>43</td>\n",
       "    </tr>\n",
       "    <tr>\n",
       "      <th>23</th>\n",
       "      <td>0.002665</td>\n",
       "      <td>4.712019e-04</td>\n",
       "      <td>0.001999</td>\n",
       "      <td>1.123916e-07</td>\n",
       "      <td>0.828643</td>\n",
       "      <td>False</td>\n",
       "      <td>{'alpha': 0.8286427728546851, 'normalize': False}</td>\n",
       "      <td>0.779016</td>\n",
       "      <td>0.706183</td>\n",
       "      <td>0.560222</td>\n",
       "      <td>0.681807</td>\n",
       "      <td>0.090970</td>\n",
       "      <td>30</td>\n",
       "    </tr>\n",
       "    <tr>\n",
       "      <th>24</th>\n",
       "      <td>0.002998</td>\n",
       "      <td>1.946680e-07</td>\n",
       "      <td>0.001999</td>\n",
       "      <td>1.123916e-07</td>\n",
       "      <td>1.52642</td>\n",
       "      <td>True</td>\n",
       "      <td>{'alpha': 1.5264179671752334, 'normalize': True}</td>\n",
       "      <td>0.710011</td>\n",
       "      <td>0.643448</td>\n",
       "      <td>0.527659</td>\n",
       "      <td>0.627039</td>\n",
       "      <td>0.075344</td>\n",
       "      <td>47</td>\n",
       "    </tr>\n",
       "    <tr>\n",
       "      <th>25</th>\n",
       "      <td>0.002998</td>\n",
       "      <td>1.946680e-07</td>\n",
       "      <td>0.001999</td>\n",
       "      <td>2.247832e-07</td>\n",
       "      <td>1.52642</td>\n",
       "      <td>False</td>\n",
       "      <td>{'alpha': 1.5264179671752334, 'normalize': False}</td>\n",
       "      <td>0.779020</td>\n",
       "      <td>0.706212</td>\n",
       "      <td>0.560243</td>\n",
       "      <td>0.681825</td>\n",
       "      <td>0.090965</td>\n",
       "      <td>29</td>\n",
       "    </tr>\n",
       "    <tr>\n",
       "      <th>26</th>\n",
       "      <td>0.002998</td>\n",
       "      <td>2.247832e-07</td>\n",
       "      <td>0.001999</td>\n",
       "      <td>2.247832e-07</td>\n",
       "      <td>2.81177</td>\n",
       "      <td>True</td>\n",
       "      <td>{'alpha': 2.8117686979742307, 'normalize': True}</td>\n",
       "      <td>0.613215</td>\n",
       "      <td>0.553166</td>\n",
       "      <td>0.432255</td>\n",
       "      <td>0.532879</td>\n",
       "      <td>0.075256</td>\n",
       "      <td>53</td>\n",
       "    </tr>\n",
       "    <tr>\n",
       "      <th>27</th>\n",
       "      <td>0.002998</td>\n",
       "      <td>2.247832e-07</td>\n",
       "      <td>0.001666</td>\n",
       "      <td>4.709770e-04</td>\n",
       "      <td>2.81177</td>\n",
       "      <td>False</td>\n",
       "      <td>{'alpha': 2.8117686979742307, 'normalize': False}</td>\n",
       "      <td>0.779025</td>\n",
       "      <td>0.706264</td>\n",
       "      <td>0.560279</td>\n",
       "      <td>0.681856</td>\n",
       "      <td>0.090955</td>\n",
       "      <td>28</td>\n",
       "    </tr>\n",
       "    <tr>\n",
       "      <th>28</th>\n",
       "      <td>0.002998</td>\n",
       "      <td>1.123916e-07</td>\n",
       "      <td>0.000999</td>\n",
       "      <td>1.946680e-07</td>\n",
       "      <td>5.17947</td>\n",
       "      <td>True</td>\n",
       "      <td>{'alpha': 5.1794746792312125, 'normalize': True}</td>\n",
       "      <td>0.479534</td>\n",
       "      <td>0.428347</td>\n",
       "      <td>0.255305</td>\n",
       "      <td>0.387729</td>\n",
       "      <td>0.095941</td>\n",
       "      <td>55</td>\n",
       "    </tr>\n",
       "    <tr>\n",
       "      <th>29</th>\n",
       "      <td>0.002998</td>\n",
       "      <td>2.247832e-07</td>\n",
       "      <td>0.001666</td>\n",
       "      <td>4.709770e-04</td>\n",
       "      <td>5.17947</td>\n",
       "      <td>False</td>\n",
       "      <td>{'alpha': 5.1794746792312125, 'normalize': False}</td>\n",
       "      <td>0.779036</td>\n",
       "      <td>0.706357</td>\n",
       "      <td>0.560341</td>\n",
       "      <td>0.681912</td>\n",
       "      <td>0.090940</td>\n",
       "      <td>27</td>\n",
       "    </tr>\n",
       "    <tr>\n",
       "      <th>30</th>\n",
       "      <td>0.002998</td>\n",
       "      <td>2.973602e-07</td>\n",
       "      <td>0.001999</td>\n",
       "      <td>3.371748e-07</td>\n",
       "      <td>9.54095</td>\n",
       "      <td>True</td>\n",
       "      <td>{'alpha': 9.540954763499943, 'normalize': True}</td>\n",
       "      <td>0.334892</td>\n",
       "      <td>0.292374</td>\n",
       "      <td>0.030560</td>\n",
       "      <td>0.219276</td>\n",
       "      <td>0.134566</td>\n",
       "      <td>58</td>\n",
       "    </tr>\n",
       "    <tr>\n",
       "      <th>31</th>\n",
       "      <td>0.002998</td>\n",
       "      <td>1.123916e-07</td>\n",
       "      <td>0.001999</td>\n",
       "      <td>1.946680e-07</td>\n",
       "      <td>9.54095</td>\n",
       "      <td>False</td>\n",
       "      <td>{'alpha': 9.540954763499943, 'normalize': False}</td>\n",
       "      <td>0.779056</td>\n",
       "      <td>0.706520</td>\n",
       "      <td>0.560440</td>\n",
       "      <td>0.682006</td>\n",
       "      <td>0.090917</td>\n",
       "      <td>26</td>\n",
       "    </tr>\n",
       "    <tr>\n",
       "      <th>32</th>\n",
       "      <td>0.002998</td>\n",
       "      <td>1.123916e-07</td>\n",
       "      <td>0.001999</td>\n",
       "      <td>1.946680e-07</td>\n",
       "      <td>17.5751</td>\n",
       "      <td>True</td>\n",
       "      <td>{'alpha': 17.57510624854793, 'normalize': True}</td>\n",
       "      <td>0.209680</td>\n",
       "      <td>0.173779</td>\n",
       "      <td>-0.181989</td>\n",
       "      <td>0.067157</td>\n",
       "      <td>0.176781</td>\n",
       "      <td>60</td>\n",
       "    </tr>\n",
       "    <tr>\n",
       "      <th>33</th>\n",
       "      <td>0.002998</td>\n",
       "      <td>1.946680e-07</td>\n",
       "      <td>0.001999</td>\n",
       "      <td>2.973602e-07</td>\n",
       "      <td>17.5751</td>\n",
       "      <td>False</td>\n",
       "      <td>{'alpha': 17.57510624854793, 'normalize': False}</td>\n",
       "      <td>0.779096</td>\n",
       "      <td>0.706791</td>\n",
       "      <td>0.560581</td>\n",
       "      <td>0.682156</td>\n",
       "      <td>0.090893</td>\n",
       "      <td>25</td>\n",
       "    </tr>\n",
       "    <tr>\n",
       "      <th>34</th>\n",
       "      <td>0.002998</td>\n",
       "      <td>1.123916e-07</td>\n",
       "      <td>0.001999</td>\n",
       "      <td>1.946680e-07</td>\n",
       "      <td>32.3746</td>\n",
       "      <td>True</td>\n",
       "      <td>{'alpha': 32.37457542817646, 'normalize': True}</td>\n",
       "      <td>0.118562</td>\n",
       "      <td>0.086953</td>\n",
       "      <td>-0.344435</td>\n",
       "      <td>-0.046307</td>\n",
       "      <td>0.211203</td>\n",
       "      <td>62</td>\n",
       "    </tr>\n",
       "    <tr>\n",
       "      <th>35</th>\n",
       "      <td>0.002999</td>\n",
       "      <td>5.947204e-07</td>\n",
       "      <td>0.001999</td>\n",
       "      <td>4.052337e-07</td>\n",
       "      <td>32.3746</td>\n",
       "      <td>False</td>\n",
       "      <td>{'alpha': 32.37457542817646, 'normalize': False}</td>\n",
       "      <td>0.779175</td>\n",
       "      <td>0.707212</td>\n",
       "      <td>0.560738</td>\n",
       "      <td>0.682375</td>\n",
       "      <td>0.090889</td>\n",
       "      <td>23</td>\n",
       "    </tr>\n",
       "    <tr>\n",
       "      <th>36</th>\n",
       "      <td>0.002998</td>\n",
       "      <td>1.123916e-07</td>\n",
       "      <td>0.001999</td>\n",
       "      <td>2.247832e-07</td>\n",
       "      <td>59.6362</td>\n",
       "      <td>True</td>\n",
       "      <td>{'alpha': 59.636233165946486, 'normalize': True}</td>\n",
       "      <td>0.059689</td>\n",
       "      <td>0.030624</td>\n",
       "      <td>-0.452274</td>\n",
       "      <td>-0.120653</td>\n",
       "      <td>0.234791</td>\n",
       "      <td>64</td>\n",
       "    </tr>\n",
       "    <tr>\n",
       "      <th>37</th>\n",
       "      <td>0.002998</td>\n",
       "      <td>1.123916e-07</td>\n",
       "      <td>0.001999</td>\n",
       "      <td>0.000000e+00</td>\n",
       "      <td>59.6362</td>\n",
       "      <td>False</td>\n",
       "      <td>{'alpha': 59.636233165946486, 'normalize': False}</td>\n",
       "      <td>0.779337</td>\n",
       "      <td>0.707799</td>\n",
       "      <td>0.560841</td>\n",
       "      <td>0.682659</td>\n",
       "      <td>0.090955</td>\n",
       "      <td>21</td>\n",
       "    </tr>\n",
       "    <tr>\n",
       "      <th>38</th>\n",
       "      <td>0.002998</td>\n",
       "      <td>1.123916e-07</td>\n",
       "      <td>0.001333</td>\n",
       "      <td>4.712018e-04</td>\n",
       "      <td>109.854</td>\n",
       "      <td>True</td>\n",
       "      <td>{'alpha': 109.85411419875595, 'normalize': True}</td>\n",
       "      <td>0.024380</td>\n",
       "      <td>-0.003245</td>\n",
       "      <td>-0.517921</td>\n",
       "      <td>-0.165596</td>\n",
       "      <td>0.249387</td>\n",
       "      <td>66</td>\n",
       "    </tr>\n",
       "    <tr>\n",
       "      <th>39</th>\n",
       "      <td>0.001999</td>\n",
       "      <td>1.946680e-07</td>\n",
       "      <td>0.001999</td>\n",
       "      <td>2.247832e-07</td>\n",
       "      <td>109.854</td>\n",
       "      <td>False</td>\n",
       "      <td>{'alpha': 109.85411419875595, 'normalize': False}</td>\n",
       "      <td>0.779662</td>\n",
       "      <td>0.708506</td>\n",
       "      <td>0.560795</td>\n",
       "      <td>0.682988</td>\n",
       "      <td>0.091156</td>\n",
       "      <td>20</td>\n",
       "    </tr>\n",
       "    <tr>\n",
       "      <th>40</th>\n",
       "      <td>0.001999</td>\n",
       "      <td>1.123916e-07</td>\n",
       "      <td>0.001999</td>\n",
       "      <td>1.123916e-07</td>\n",
       "      <td>202.359</td>\n",
       "      <td>True</td>\n",
       "      <td>{'alpha': 202.35896477251598, 'normalize': True}</td>\n",
       "      <td>0.004112</td>\n",
       "      <td>-0.022715</td>\n",
       "      <td>-0.555911</td>\n",
       "      <td>-0.191505</td>\n",
       "      <td>0.257907</td>\n",
       "      <td>68</td>\n",
       "    </tr>\n",
       "    <tr>\n",
       "      <th>41</th>\n",
       "      <td>0.002665</td>\n",
       "      <td>4.710332e-04</td>\n",
       "      <td>0.001999</td>\n",
       "      <td>0.000000e+00</td>\n",
       "      <td>202.359</td>\n",
       "      <td>False</td>\n",
       "      <td>{'alpha': 202.35896477251598, 'normalize': False}</td>\n",
       "      <td>0.780281</td>\n",
       "      <td>0.709219</td>\n",
       "      <td>0.560589</td>\n",
       "      <td>0.683363</td>\n",
       "      <td>0.091533</td>\n",
       "      <td>18</td>\n",
       "    </tr>\n",
       "    <tr>\n",
       "      <th>42</th>\n",
       "      <td>0.002665</td>\n",
       "      <td>4.711456e-04</td>\n",
       "      <td>0.001999</td>\n",
       "      <td>1.123916e-07</td>\n",
       "      <td>372.759</td>\n",
       "      <td>True</td>\n",
       "      <td>{'alpha': 372.75937203149454, 'normalize': True}</td>\n",
       "      <td>-0.007235</td>\n",
       "      <td>-0.033624</td>\n",
       "      <td>-0.577274</td>\n",
       "      <td>-0.206045</td>\n",
       "      <td>0.262720</td>\n",
       "      <td>70</td>\n",
       "    </tr>\n",
       "    <tr>\n",
       "      <th>43</th>\n",
       "      <td>0.002332</td>\n",
       "      <td>4.713704e-04</td>\n",
       "      <td>0.001999</td>\n",
       "      <td>1.123916e-07</td>\n",
       "      <td>372.759</td>\n",
       "      <td>False</td>\n",
       "      <td>{'alpha': 372.75937203149454, 'normalize': False}</td>\n",
       "      <td>0.781347</td>\n",
       "      <td>0.709799</td>\n",
       "      <td>0.560347</td>\n",
       "      <td>0.683831</td>\n",
       "      <td>0.092072</td>\n",
       "      <td>17</td>\n",
       "    </tr>\n",
       "    <tr>\n",
       "      <th>44</th>\n",
       "      <td>0.002332</td>\n",
       "      <td>4.710894e-04</td>\n",
       "      <td>0.001999</td>\n",
       "      <td>1.123916e-07</td>\n",
       "      <td>686.649</td>\n",
       "      <td>True</td>\n",
       "      <td>{'alpha': 686.6488450043013, 'normalize': True}</td>\n",
       "      <td>-0.013500</td>\n",
       "      <td>-0.039650</td>\n",
       "      <td>-0.589097</td>\n",
       "      <td>-0.214082</td>\n",
       "      <td>0.265390</td>\n",
       "      <td>72</td>\n",
       "    </tr>\n",
       "    <tr>\n",
       "      <th>45</th>\n",
       "      <td>0.002998</td>\n",
       "      <td>3.371748e-07</td>\n",
       "      <td>0.001999</td>\n",
       "      <td>1.123916e-07</td>\n",
       "      <td>686.649</td>\n",
       "      <td>False</td>\n",
       "      <td>{'alpha': 686.6488450043013, 'normalize': False}</td>\n",
       "      <td>0.782958</td>\n",
       "      <td>0.710097</td>\n",
       "      <td>0.560262</td>\n",
       "      <td>0.684439</td>\n",
       "      <td>0.092708</td>\n",
       "      <td>15</td>\n",
       "    </tr>\n",
       "    <tr>\n",
       "      <th>46</th>\n",
       "      <td>0.002998</td>\n",
       "      <td>2.247832e-07</td>\n",
       "      <td>0.001999</td>\n",
       "      <td>1.946680e-07</td>\n",
       "      <td>1264.86</td>\n",
       "      <td>True</td>\n",
       "      <td>{'alpha': 1264.8552168552983, 'normalize': True}</td>\n",
       "      <td>-0.016932</td>\n",
       "      <td>-0.042952</td>\n",
       "      <td>-0.595583</td>\n",
       "      <td>-0.218489</td>\n",
       "      <td>0.266857</td>\n",
       "      <td>74</td>\n",
       "    </tr>\n",
       "    <tr>\n",
       "      <th>47</th>\n",
       "      <td>0.002665</td>\n",
       "      <td>4.712580e-04</td>\n",
       "      <td>0.001999</td>\n",
       "      <td>0.000000e+00</td>\n",
       "      <td>1264.86</td>\n",
       "      <td>False</td>\n",
       "      <td>{'alpha': 1264.8552168552983, 'normalize': False}</td>\n",
       "      <td>0.785105</td>\n",
       "      <td>0.709897</td>\n",
       "      <td>0.560546</td>\n",
       "      <td>0.685183</td>\n",
       "      <td>0.093327</td>\n",
       "      <td>14</td>\n",
       "    </tr>\n",
       "    <tr>\n",
       "      <th>48</th>\n",
       "      <td>0.003331</td>\n",
       "      <td>4.710894e-04</td>\n",
       "      <td>0.001999</td>\n",
       "      <td>1.946680e-07</td>\n",
       "      <td>2329.95</td>\n",
       "      <td>True</td>\n",
       "      <td>{'alpha': 2329.951810515372, 'normalize': True}</td>\n",
       "      <td>-0.018805</td>\n",
       "      <td>-0.044754</td>\n",
       "      <td>-0.599125</td>\n",
       "      <td>-0.220895</td>\n",
       "      <td>0.267659</td>\n",
       "      <td>75</td>\n",
       "    </tr>\n",
       "    <tr>\n",
       "      <th>49</th>\n",
       "      <td>0.002998</td>\n",
       "      <td>1.946680e-07</td>\n",
       "      <td>0.001999</td>\n",
       "      <td>2.247832e-07</td>\n",
       "      <td>2329.95</td>\n",
       "      <td>False</td>\n",
       "      <td>{'alpha': 2329.951810515372, 'normalize': False}</td>\n",
       "      <td>0.787747</td>\n",
       "      <td>0.708821</td>\n",
       "      <td>0.561482</td>\n",
       "      <td>0.686017</td>\n",
       "      <td>0.093769</td>\n",
       "      <td>12</td>\n",
       "    </tr>\n",
       "    <tr>\n",
       "      <th>50</th>\n",
       "      <td>0.002998</td>\n",
       "      <td>2.247832e-07</td>\n",
       "      <td>0.001999</td>\n",
       "      <td>1.123916e-07</td>\n",
       "      <td>4291.93</td>\n",
       "      <td>True</td>\n",
       "      <td>{'alpha': 4291.934260128778, 'normalize': True}</td>\n",
       "      <td>-0.019825</td>\n",
       "      <td>-0.045735</td>\n",
       "      <td>-0.601053</td>\n",
       "      <td>-0.222204</td>\n",
       "      <td>0.268095</td>\n",
       "      <td>76</td>\n",
       "    </tr>\n",
       "    <tr>\n",
       "      <th>51</th>\n",
       "      <td>0.002998</td>\n",
       "      <td>0.000000e+00</td>\n",
       "      <td>0.001666</td>\n",
       "      <td>4.710894e-04</td>\n",
       "      <td>4291.93</td>\n",
       "      <td>False</td>\n",
       "      <td>{'alpha': 4291.934260128778, 'normalize': False}</td>\n",
       "      <td>0.790982</td>\n",
       "      <td>0.706265</td>\n",
       "      <td>0.563504</td>\n",
       "      <td>0.686917</td>\n",
       "      <td>0.093870</td>\n",
       "      <td>10</td>\n",
       "    </tr>\n",
       "    <tr>\n",
       "      <th>52</th>\n",
       "      <td>0.001999</td>\n",
       "      <td>1.123916e-07</td>\n",
       "      <td>0.001999</td>\n",
       "      <td>1.123916e-07</td>\n",
       "      <td>7906.04</td>\n",
       "      <td>True</td>\n",
       "      <td>{'alpha': 7906.043210907702, 'normalize': True}</td>\n",
       "      <td>-0.020379</td>\n",
       "      <td>-0.046269</td>\n",
       "      <td>-0.602102</td>\n",
       "      <td>-0.222916</td>\n",
       "      <td>0.268333</td>\n",
       "      <td>77</td>\n",
       "    </tr>\n",
       "    <tr>\n",
       "      <th>53</th>\n",
       "      <td>0.002331</td>\n",
       "      <td>4.708646e-04</td>\n",
       "      <td>0.001999</td>\n",
       "      <td>2.973602e-07</td>\n",
       "      <td>7906.04</td>\n",
       "      <td>False</td>\n",
       "      <td>{'alpha': 7906.043210907702, 'normalize': False}</td>\n",
       "      <td>0.795053</td>\n",
       "      <td>0.701345</td>\n",
       "      <td>0.567196</td>\n",
       "      <td>0.687865</td>\n",
       "      <td>0.093509</td>\n",
       "      <td>9</td>\n",
       "    </tr>\n",
       "    <tr>\n",
       "      <th>54</th>\n",
       "      <td>0.002998</td>\n",
       "      <td>0.000000e+00</td>\n",
       "      <td>0.001999</td>\n",
       "      <td>0.000000e+00</td>\n",
       "      <td>14563.5</td>\n",
       "      <td>True</td>\n",
       "      <td>{'alpha': 14563.484775012445, 'normalize': True}</td>\n",
       "      <td>-0.020680</td>\n",
       "      <td>-0.046559</td>\n",
       "      <td>-0.602672</td>\n",
       "      <td>-0.223303</td>\n",
       "      <td>0.268462</td>\n",
       "      <td>78</td>\n",
       "    </tr>\n",
       "    <tr>\n",
       "      <th>55</th>\n",
       "      <td>0.002665</td>\n",
       "      <td>4.713704e-04</td>\n",
       "      <td>0.001999</td>\n",
       "      <td>1.946680e-07</td>\n",
       "      <td>14563.5</td>\n",
       "      <td>False</td>\n",
       "      <td>{'alpha': 14563.484775012445, 'normalize': False}</td>\n",
       "      <td>0.800006</td>\n",
       "      <td>0.692905</td>\n",
       "      <td>0.573098</td>\n",
       "      <td>0.688670</td>\n",
       "      <td>0.092684</td>\n",
       "      <td>6</td>\n",
       "    </tr>\n",
       "    <tr>\n",
       "      <th>56</th>\n",
       "      <td>0.002998</td>\n",
       "      <td>1.123916e-07</td>\n",
       "      <td>0.001999</td>\n",
       "      <td>2.247832e-07</td>\n",
       "      <td>26827</td>\n",
       "      <td>True</td>\n",
       "      <td>{'alpha': 26826.957952797275, 'normalize': True}</td>\n",
       "      <td>-0.020843</td>\n",
       "      <td>-0.046716</td>\n",
       "      <td>-0.602981</td>\n",
       "      <td>-0.223514</td>\n",
       "      <td>0.268532</td>\n",
       "      <td>79</td>\n",
       "    </tr>\n",
       "    <tr>\n",
       "      <th>57</th>\n",
       "      <td>0.002663</td>\n",
       "      <td>4.697470e-04</td>\n",
       "      <td>0.002334</td>\n",
       "      <td>4.695770e-04</td>\n",
       "      <td>26827</td>\n",
       "      <td>False</td>\n",
       "      <td>{'alpha': 26826.957952797275, 'normalize': False}</td>\n",
       "      <td>0.805116</td>\n",
       "      <td>0.679860</td>\n",
       "      <td>0.581000</td>\n",
       "      <td>0.688659</td>\n",
       "      <td>0.091706</td>\n",
       "      <td>7</td>\n",
       "    </tr>\n",
       "    <tr>\n",
       "      <th>58</th>\n",
       "      <td>0.002998</td>\n",
       "      <td>1.123916e-07</td>\n",
       "      <td>0.001999</td>\n",
       "      <td>0.000000e+00</td>\n",
       "      <td>49417.1</td>\n",
       "      <td>True</td>\n",
       "      <td>{'alpha': 49417.13361323838, 'normalize': True}</td>\n",
       "      <td>-0.020932</td>\n",
       "      <td>-0.046801</td>\n",
       "      <td>-0.603149</td>\n",
       "      <td>-0.223628</td>\n",
       "      <td>0.268570</td>\n",
       "      <td>80</td>\n",
       "    </tr>\n",
       "    <tr>\n",
       "      <th>59</th>\n",
       "      <td>0.002665</td>\n",
       "      <td>4.709770e-04</td>\n",
       "      <td>0.001999</td>\n",
       "      <td>1.123916e-07</td>\n",
       "      <td>49417.1</td>\n",
       "      <td>False</td>\n",
       "      <td>{'alpha': 49417.13361323838, 'normalize': False}</td>\n",
       "      <td>0.808576</td>\n",
       "      <td>0.662098</td>\n",
       "      <td>0.588521</td>\n",
       "      <td>0.686399</td>\n",
       "      <td>0.091466</td>\n",
       "      <td>11</td>\n",
       "    </tr>\n",
       "  </tbody>\n",
       "</table>\n",
       "</div>"
      ],
      "text/plain": [
       "    mean_fit_time  std_fit_time  mean_score_time  std_score_time param_alpha  \\\n",
       "0        0.003664  9.411672e-04         0.001999    4.495664e-07       0.001   \n",
       "1        0.002998  7.018853e-07         0.002332    4.709208e-04       0.001   \n",
       "2        0.002998  5.947204e-07         0.002332    4.706960e-04  0.00184207   \n",
       "3        0.002332  4.711456e-04         0.001999    0.000000e+00  0.00184207   \n",
       "4        0.002998  0.000000e+00         0.001999    1.123916e-07  0.00339322   \n",
       "5        0.002665  4.712580e-04         0.001999    1.123916e-07  0.00339322   \n",
       "6        0.001999  2.247832e-07         0.001999    1.123916e-07  0.00625055   \n",
       "7        0.002665  4.709771e-04         0.001332    4.709771e-04  0.00625055   \n",
       "8        0.002665  4.711456e-04         0.001999    2.973602e-07    0.011514   \n",
       "9        0.002998  2.973602e-07         0.001999    1.123916e-07    0.011514   \n",
       "10       0.002998  1.946680e-07         0.001999    2.247832e-07   0.0212095   \n",
       "11       0.002998  1.123916e-07         0.001999    1.946680e-07   0.0212095   \n",
       "12       0.002998  4.052337e-07         0.001999    2.973602e-07   0.0390694   \n",
       "13       0.002998  2.247832e-07         0.001999    1.123916e-07   0.0390694   \n",
       "14       0.002665  4.713142e-04         0.001999    4.052337e-07   0.0719686   \n",
       "15       0.002332  4.709770e-04         0.001666    4.709770e-04   0.0719686   \n",
       "16       0.002998  1.123916e-07         0.000999    1.123916e-07    0.132571   \n",
       "17       0.001999  1.123916e-07         0.001999    1.123916e-07    0.132571   \n",
       "18       0.001999  1.123916e-07         0.001999    2.247832e-07    0.244205   \n",
       "19       0.001999  1.946680e-07         0.001999    1.123916e-07    0.244205   \n",
       "20       0.002665  4.712580e-04         0.001666    4.712580e-04    0.449843   \n",
       "21       0.002665  4.709770e-04         0.001666    4.712580e-04    0.449843   \n",
       "22       0.002665  4.710332e-04         0.001332    4.710894e-04    0.828643   \n",
       "23       0.002665  4.712019e-04         0.001999    1.123916e-07    0.828643   \n",
       "24       0.002998  1.946680e-07         0.001999    1.123916e-07     1.52642   \n",
       "25       0.002998  1.946680e-07         0.001999    2.247832e-07     1.52642   \n",
       "26       0.002998  2.247832e-07         0.001999    2.247832e-07     2.81177   \n",
       "27       0.002998  2.247832e-07         0.001666    4.709770e-04     2.81177   \n",
       "28       0.002998  1.123916e-07         0.000999    1.946680e-07     5.17947   \n",
       "29       0.002998  2.247832e-07         0.001666    4.709770e-04     5.17947   \n",
       "30       0.002998  2.973602e-07         0.001999    3.371748e-07     9.54095   \n",
       "31       0.002998  1.123916e-07         0.001999    1.946680e-07     9.54095   \n",
       "32       0.002998  1.123916e-07         0.001999    1.946680e-07     17.5751   \n",
       "33       0.002998  1.946680e-07         0.001999    2.973602e-07     17.5751   \n",
       "34       0.002998  1.123916e-07         0.001999    1.946680e-07     32.3746   \n",
       "35       0.002999  5.947204e-07         0.001999    4.052337e-07     32.3746   \n",
       "36       0.002998  1.123916e-07         0.001999    2.247832e-07     59.6362   \n",
       "37       0.002998  1.123916e-07         0.001999    0.000000e+00     59.6362   \n",
       "38       0.002998  1.123916e-07         0.001333    4.712018e-04     109.854   \n",
       "39       0.001999  1.946680e-07         0.001999    2.247832e-07     109.854   \n",
       "40       0.001999  1.123916e-07         0.001999    1.123916e-07     202.359   \n",
       "41       0.002665  4.710332e-04         0.001999    0.000000e+00     202.359   \n",
       "42       0.002665  4.711456e-04         0.001999    1.123916e-07     372.759   \n",
       "43       0.002332  4.713704e-04         0.001999    1.123916e-07     372.759   \n",
       "44       0.002332  4.710894e-04         0.001999    1.123916e-07     686.649   \n",
       "45       0.002998  3.371748e-07         0.001999    1.123916e-07     686.649   \n",
       "46       0.002998  2.247832e-07         0.001999    1.946680e-07     1264.86   \n",
       "47       0.002665  4.712580e-04         0.001999    0.000000e+00     1264.86   \n",
       "48       0.003331  4.710894e-04         0.001999    1.946680e-07     2329.95   \n",
       "49       0.002998  1.946680e-07         0.001999    2.247832e-07     2329.95   \n",
       "50       0.002998  2.247832e-07         0.001999    1.123916e-07     4291.93   \n",
       "51       0.002998  0.000000e+00         0.001666    4.710894e-04     4291.93   \n",
       "52       0.001999  1.123916e-07         0.001999    1.123916e-07     7906.04   \n",
       "53       0.002331  4.708646e-04         0.001999    2.973602e-07     7906.04   \n",
       "54       0.002998  0.000000e+00         0.001999    0.000000e+00     14563.5   \n",
       "55       0.002665  4.713704e-04         0.001999    1.946680e-07     14563.5   \n",
       "56       0.002998  1.123916e-07         0.001999    2.247832e-07       26827   \n",
       "57       0.002663  4.697470e-04         0.002334    4.695770e-04       26827   \n",
       "58       0.002998  1.123916e-07         0.001999    0.000000e+00     49417.1   \n",
       "59       0.002665  4.709770e-04         0.001999    1.123916e-07     49417.1   \n",
       "\n",
       "   param_normalize                                             params  \\\n",
       "0             True                {'alpha': 0.001, 'normalize': True}   \n",
       "1            False               {'alpha': 0.001, 'normalize': False}   \n",
       "2             True  {'alpha': 0.0018420699693267163, 'normalize': ...   \n",
       "3            False  {'alpha': 0.0018420699693267163, 'normalize': ...   \n",
       "4             True  {'alpha': 0.00339322177189533, 'normalize': True}   \n",
       "5            False  {'alpha': 0.00339322177189533, 'normalize': Fa...   \n",
       "6             True  {'alpha': 0.006250551925273976, 'normalize': T...   \n",
       "7            False  {'alpha': 0.006250551925273976, 'normalize': F...   \n",
       "8             True  {'alpha': 0.011513953993264475, 'normalize': T...   \n",
       "9            False  {'alpha': 0.011513953993264475, 'normalize': F...   \n",
       "10            True  {'alpha': 0.021209508879201915, 'normalize': T...   \n",
       "11           False  {'alpha': 0.021209508879201915, 'normalize': F...   \n",
       "12            True  {'alpha': 0.03906939937054617, 'normalize': True}   \n",
       "13           False  {'alpha': 0.03906939937054617, 'normalize': Fa...   \n",
       "14            True  {'alpha': 0.07196856730011521, 'normalize': True}   \n",
       "15           False  {'alpha': 0.07196856730011521, 'normalize': Fa...   \n",
       "16            True  {'alpha': 0.13257113655901095, 'normalize': True}   \n",
       "17           False  {'alpha': 0.13257113655901095, 'normalize': Fa...   \n",
       "18            True  {'alpha': 0.24420530945486524, 'normalize': True}   \n",
       "19           False  {'alpha': 0.24420530945486524, 'normalize': Fa...   \n",
       "20            True  {'alpha': 0.44984326689694487, 'normalize': True}   \n",
       "21           False  {'alpha': 0.44984326689694487, 'normalize': Fa...   \n",
       "22            True   {'alpha': 0.8286427728546851, 'normalize': True}   \n",
       "23           False  {'alpha': 0.8286427728546851, 'normalize': False}   \n",
       "24            True   {'alpha': 1.5264179671752334, 'normalize': True}   \n",
       "25           False  {'alpha': 1.5264179671752334, 'normalize': False}   \n",
       "26            True   {'alpha': 2.8117686979742307, 'normalize': True}   \n",
       "27           False  {'alpha': 2.8117686979742307, 'normalize': False}   \n",
       "28            True   {'alpha': 5.1794746792312125, 'normalize': True}   \n",
       "29           False  {'alpha': 5.1794746792312125, 'normalize': False}   \n",
       "30            True    {'alpha': 9.540954763499943, 'normalize': True}   \n",
       "31           False   {'alpha': 9.540954763499943, 'normalize': False}   \n",
       "32            True    {'alpha': 17.57510624854793, 'normalize': True}   \n",
       "33           False   {'alpha': 17.57510624854793, 'normalize': False}   \n",
       "34            True    {'alpha': 32.37457542817646, 'normalize': True}   \n",
       "35           False   {'alpha': 32.37457542817646, 'normalize': False}   \n",
       "36            True   {'alpha': 59.636233165946486, 'normalize': True}   \n",
       "37           False  {'alpha': 59.636233165946486, 'normalize': False}   \n",
       "38            True   {'alpha': 109.85411419875595, 'normalize': True}   \n",
       "39           False  {'alpha': 109.85411419875595, 'normalize': False}   \n",
       "40            True   {'alpha': 202.35896477251598, 'normalize': True}   \n",
       "41           False  {'alpha': 202.35896477251598, 'normalize': False}   \n",
       "42            True   {'alpha': 372.75937203149454, 'normalize': True}   \n",
       "43           False  {'alpha': 372.75937203149454, 'normalize': False}   \n",
       "44            True    {'alpha': 686.6488450043013, 'normalize': True}   \n",
       "45           False   {'alpha': 686.6488450043013, 'normalize': False}   \n",
       "46            True   {'alpha': 1264.8552168552983, 'normalize': True}   \n",
       "47           False  {'alpha': 1264.8552168552983, 'normalize': False}   \n",
       "48            True    {'alpha': 2329.951810515372, 'normalize': True}   \n",
       "49           False   {'alpha': 2329.951810515372, 'normalize': False}   \n",
       "50            True    {'alpha': 4291.934260128778, 'normalize': True}   \n",
       "51           False   {'alpha': 4291.934260128778, 'normalize': False}   \n",
       "52            True    {'alpha': 7906.043210907702, 'normalize': True}   \n",
       "53           False   {'alpha': 7906.043210907702, 'normalize': False}   \n",
       "54            True   {'alpha': 14563.484775012445, 'normalize': True}   \n",
       "55           False  {'alpha': 14563.484775012445, 'normalize': False}   \n",
       "56            True   {'alpha': 26826.957952797275, 'normalize': True}   \n",
       "57           False  {'alpha': 26826.957952797275, 'normalize': False}   \n",
       "58            True    {'alpha': 49417.13361323838, 'normalize': True}   \n",
       "59           False   {'alpha': 49417.13361323838, 'normalize': False}   \n",
       "\n",
       "    split0_test_score  split1_test_score  split2_test_score  mean_test_score  \\\n",
       "0            0.779355           0.706818           0.560334         0.682169   \n",
       "1            0.779013           0.706148           0.560197         0.681786   \n",
       "2            0.779640           0.707367           0.560446         0.682484   \n",
       "3            0.779013           0.706148           0.560197         0.681786   \n",
       "4            0.780155           0.708344           0.560647         0.683049   \n",
       "5            0.779013           0.706148           0.560197         0.681786   \n",
       "6            0.781074           0.710034           0.560996         0.684035   \n",
       "7            0.779013           0.706148           0.560197         0.681786   \n",
       "8            0.782674           0.712822           0.561572         0.685689   \n",
       "9            0.779013           0.706148           0.560197         0.681786   \n",
       "10           0.785329           0.717061           0.562441         0.688277   \n",
       "11           0.779013           0.706149           0.560198         0.681787   \n",
       "12           0.789373           0.722723           0.563545         0.691880   \n",
       "13           0.779013           0.706150           0.560198         0.681787   \n",
       "14           0.794640           0.728846           0.564534         0.696007   \n",
       "15           0.779013           0.706151           0.560199         0.681788   \n",
       "16           0.799607           0.733202           0.564854         0.699221   \n",
       "17           0.779013           0.706154           0.560201         0.681789   \n",
       "18           0.800672           0.732498           0.564548         0.699239   \n",
       "19           0.779014           0.706158           0.560205         0.681792   \n",
       "20           0.792170           0.722436           0.564267         0.692958   \n",
       "21           0.779015           0.706167           0.560211         0.681798   \n",
       "22           0.765931           0.696333           0.559273         0.673846   \n",
       "23           0.779016           0.706183           0.560222         0.681807   \n",
       "24           0.710011           0.643448           0.527659         0.627039   \n",
       "25           0.779020           0.706212           0.560243         0.681825   \n",
       "26           0.613215           0.553166           0.432255         0.532879   \n",
       "27           0.779025           0.706264           0.560279         0.681856   \n",
       "28           0.479534           0.428347           0.255305         0.387729   \n",
       "29           0.779036           0.706357           0.560341         0.681912   \n",
       "30           0.334892           0.292374           0.030560         0.219276   \n",
       "31           0.779056           0.706520           0.560440         0.682006   \n",
       "32           0.209680           0.173779          -0.181989         0.067157   \n",
       "33           0.779096           0.706791           0.560581         0.682156   \n",
       "34           0.118562           0.086953          -0.344435        -0.046307   \n",
       "35           0.779175           0.707212           0.560738         0.682375   \n",
       "36           0.059689           0.030624          -0.452274        -0.120653   \n",
       "37           0.779337           0.707799           0.560841         0.682659   \n",
       "38           0.024380          -0.003245          -0.517921        -0.165596   \n",
       "39           0.779662           0.708506           0.560795         0.682988   \n",
       "40           0.004112          -0.022715          -0.555911        -0.191505   \n",
       "41           0.780281           0.709219           0.560589         0.683363   \n",
       "42          -0.007235          -0.033624          -0.577274        -0.206045   \n",
       "43           0.781347           0.709799           0.560347         0.683831   \n",
       "44          -0.013500          -0.039650          -0.589097        -0.214082   \n",
       "45           0.782958           0.710097           0.560262         0.684439   \n",
       "46          -0.016932          -0.042952          -0.595583        -0.218489   \n",
       "47           0.785105           0.709897           0.560546         0.685183   \n",
       "48          -0.018805          -0.044754          -0.599125        -0.220895   \n",
       "49           0.787747           0.708821           0.561482         0.686017   \n",
       "50          -0.019825          -0.045735          -0.601053        -0.222204   \n",
       "51           0.790982           0.706265           0.563504         0.686917   \n",
       "52          -0.020379          -0.046269          -0.602102        -0.222916   \n",
       "53           0.795053           0.701345           0.567196         0.687865   \n",
       "54          -0.020680          -0.046559          -0.602672        -0.223303   \n",
       "55           0.800006           0.692905           0.573098         0.688670   \n",
       "56          -0.020843          -0.046716          -0.602981        -0.223514   \n",
       "57           0.805116           0.679860           0.581000         0.688659   \n",
       "58          -0.020932          -0.046801          -0.603149        -0.223628   \n",
       "59           0.808576           0.662098           0.588521         0.686399   \n",
       "\n",
       "    std_test_score  rank_test_score  \n",
       "0         0.091098               24  \n",
       "1         0.090977               41  \n",
       "2         0.091199               22  \n",
       "3         0.090977               40  \n",
       "4         0.091381               19  \n",
       "5         0.090977               39  \n",
       "6         0.091708               16  \n",
       "7         0.090977               38  \n",
       "8         0.092281               13  \n",
       "9         0.090977               37  \n",
       "10        0.093242                8  \n",
       "11        0.090977               36  \n",
       "12        0.094738                5  \n",
       "13        0.090977               35  \n",
       "14        0.096768                3  \n",
       "15        0.090976               34  \n",
       "16        0.098804                2  \n",
       "17        0.090976               33  \n",
       "18        0.099224                1  \n",
       "19        0.090975               32  \n",
       "20        0.095347                4  \n",
       "21        0.090973               31  \n",
       "22        0.085853               43  \n",
       "23        0.090970               30  \n",
       "24        0.075344               47  \n",
       "25        0.090965               29  \n",
       "26        0.075256               53  \n",
       "27        0.090955               28  \n",
       "28        0.095941               55  \n",
       "29        0.090940               27  \n",
       "30        0.134566               58  \n",
       "31        0.090917               26  \n",
       "32        0.176781               60  \n",
       "33        0.090893               25  \n",
       "34        0.211203               62  \n",
       "35        0.090889               23  \n",
       "36        0.234791               64  \n",
       "37        0.090955               21  \n",
       "38        0.249387               66  \n",
       "39        0.091156               20  \n",
       "40        0.257907               68  \n",
       "41        0.091533               18  \n",
       "42        0.262720               70  \n",
       "43        0.092072               17  \n",
       "44        0.265390               72  \n",
       "45        0.092708               15  \n",
       "46        0.266857               74  \n",
       "47        0.093327               14  \n",
       "48        0.267659               75  \n",
       "49        0.093769               12  \n",
       "50        0.268095               76  \n",
       "51        0.093870               10  \n",
       "52        0.268333               77  \n",
       "53        0.093509                9  \n",
       "54        0.268462               78  \n",
       "55        0.092684                6  \n",
       "56        0.268532               79  \n",
       "57        0.091706                7  \n",
       "58        0.268570               80  \n",
       "59        0.091466               11  "
      ]
     },
     "execution_count": 151,
     "metadata": {},
     "output_type": "execute_result"
    }
   ],
   "source": [
    "import pandas as pd\n",
    "\n",
    "df_score = pd.DataFrame(scores)\n",
    "df_score.head(60)"
   ]
  },
  {
   "cell_type": "markdown",
   "metadata": {},
   "source": [
    "Double-click <b>here</b> for the solution.\n",
    "\n",
    "<!-- The answer is below:\n",
    "\n",
    "parameters2= [{'alpha': [0.001,0.1,1, 10, 100, 1000,10000,100000,100000],'normalize':[True,False]} ]\n",
    "Grid2 = GridSearchCV(Ridge(), parameters2,cv=4)\n",
    "Grid2.fit(x_data[['horsepower', 'curb-weight', 'engine-size', 'highway-mpg']],y_data)\n",
    "Grid2.best_estimator_\n",
    "\n",
    "-->\n"
   ]
  },
  {
   "cell_type": "markdown",
   "metadata": {},
   "source": [
    "### Thank you for completing this lab!\n",
    "\n",
    "## Author\n",
    "\n",
    "<a href=\"https://www.linkedin.com/in/joseph-s-50398b136/\" target=\"_blank\">Joseph Santarcangelo</a>\n",
    "\n",
    "### Other Contributors\n",
    "\n",
    "<a href=\"https://www.linkedin.com/in/mahdi-noorian-58219234/\" target=\"_blank\">Mahdi Noorian PhD</a>\n",
    "\n",
    "Bahare Talayian\n",
    "\n",
    "Eric Xiao\n",
    "\n",
    "Steven Dong\n",
    "\n",
    "Parizad\n",
    "\n",
    "Hima Vasudevan\n",
    "\n",
    "<a href=\"https://www.linkedin.com/in/fiorellawever/\" target=\"_blank\">Fiorella Wenver</a>\n",
    "\n",
    "<a href=\" https://www.linkedin.com/in/yi-leng-yao-84451275/ \" target=\"_blank\" >Yi Yao</a>.\n",
    "\n",
    "## Change Log\n",
    "\n",
    "| Date (YYYY-MM-DD) | Version | Changed By | Change Description                  |\n",
    "| ----------------- | ------- | ---------- | ----------------------------------- |\n",
    "| 2020-10-05        | 2.2     | Lakshmi    | Removed unused library imports      |\n",
    "| 2020-09-14        | 2.1     | Lakshmi    | Made changes in OverFitting section |\n",
    "| 2020-08-27        | 2.0     | Lavanya    | Moved lab to course repo in GitLab  |\n",
    "\n",
    "<hr>\n",
    "\n",
    "## <h3 align=\"center\"> © IBM Corporation 2020. All rights reserved. <h3/>\n"
   ]
  }
 ],
 "metadata": {
  "anaconda-cloud": {},
  "kernelspec": {
   "display_name": "Python 3",
   "language": "python",
   "name": "python3"
  },
  "language_info": {
   "codemirror_mode": {
    "name": "ipython",
    "version": 3
   },
   "file_extension": ".py",
   "mimetype": "text/x-python",
   "name": "python",
   "nbconvert_exporter": "python",
   "pygments_lexer": "ipython3",
   "version": "3.8.5"
  }
 },
 "nbformat": 4,
 "nbformat_minor": 2
}
